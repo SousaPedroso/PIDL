{
 "cells": [
  {
   "cell_type": "code",
   "execution_count": null,
   "metadata": {},
   "outputs": [],
   "source": [
    "import sys\n",
    "import os\n",
    "sys.path.insert(1, os.path.join(sys.path[0], '..'))\n",
    "\n",
    "from utils.utilities import move_data_to_device\n",
    "\n",
    "from interpretability_utilities import plot_layer_attribution_importance, plot_frame_attributions, load_workspace_file\n",
    "\n",
    "import pandas as pd\n",
    "\n",
    "import numpy as np\n",
    "import librosa\n",
    "import librosa.display\n",
    "from scipy.io import wavfile\n",
    "from scipy.stats import norm\n",
    "\n",
    "import mlflow\n",
    "import torch\n",
    "\n",
    "import matplotlib.pyplot as plt\n",
    "import seaborn as sns\n",
    "\n",
    "from captum.attr import DeepLift, NeuronDeepLift, LayerDeepLift\n",
    "from captum.concept import Concept, TCAV\n",
    "\n",
    "from captum.concept._utils.data_iterator import dataset_to_dataloader, CustomIterableDataset\n",
    "from captum.concept._utils.common import concepts_to_str"
   ]
  },
  {
   "attachments": {},
   "cell_type": "markdown",
   "metadata": {},
   "source": [
    "## Settings and Utils"
   ]
  },
  {
   "cell_type": "code",
   "execution_count": null,
   "metadata": {},
   "outputs": [],
   "source": [
    "# Adjust according to your experiment\n",
    "ref_fold = \"8\"\n",
    "run_id = \"\"\n",
    "tracking_server = \"\"\n",
    "workspace_file = r\"\"\n",
    "dataset_dir = r\"\"\n",
    "device = 'cuda' if torch.cuda.is_available() else 'cpu'\n",
    "\n",
    "mlflow.set_tracking_uri(f\"{tracking_server}:5000\")\n",
    "logged_model = mlflow.pytorch.load_model(f\"runs:/{run_id}/models\")\n",
    "logged_model = logged_model.eval()\n",
    "\n",
    "client = mlflow.MlflowClient()\n",
    "run = client.get_run(run_id)\n",
    "run_data = run.data\n",
    "tags = run_data.tags\n",
    "sr = int(tags[\"sample_rate\"])\n",
    "n_fft = int(tags[\"window_size\"])\n",
    "hop_length = int(tags[\"hop_size\"])\n",
    "window_size = int(tags[\"window_size\"])"
   ]
  },
  {
   "cell_type": "code",
   "execution_count": null,
   "metadata": {},
   "outputs": [],
   "source": [
    "inp_data, indexes, labels, _, lb_to_idx = load_workspace_file(workspace_file, ref_fold,\n",
    "                                dataset_dir, device)\n",
    "\n",
    "idx_to_label = {idx: label for label, idx in lb_to_idx.items()}\n",
    "target = [idx for label, idx in lb_to_idx.items() if label.startswith(\"albilora\")]\n",
    "\n",
    "inp_data.requires_grad_()"
   ]
  },
  {
   "cell_type": "code",
   "execution_count": null,
   "metadata": {},
   "outputs": [],
   "source": [
    "rng = np.random.default_rng(135)"
   ]
  },
  {
   "attachments": {},
   "cell_type": "markdown",
   "metadata": {},
   "source": [
    "Until this execution, only 'others' class was predicted, I'll take two random audios and define concepts from each one for TCAV"
   ]
  },
  {
   "cell_type": "code",
   "execution_count": null,
   "metadata": {},
   "outputs": [],
   "source": [
    "np_labels = np.array(labels)\n",
    "others_audios = np.where(np.argmax(np_labels, axis=1) == lb_to_idx[\"others\"])[0]\n",
    "\n",
    "audios_ref_indices = rng.choice(others_audios, replace=False, size=2)\n",
    "ref_audios = inp_data[audios_ref_indices]"
   ]
  },
  {
   "cell_type": "code",
   "execution_count": null,
   "metadata": {},
   "outputs": [],
   "source": [
    "def filter_audio_frequencies(audio, fmin, fmax, sr, n_fft, hop_size):\n",
    "    stft_mag, stft_phase = librosa.magphase(\n",
    "        librosa.stft(audio,\n",
    "            n_fft=n_fft, win_length=window_size, hop_length=hop_size, center=True)\n",
    "    )\n",
    "\n",
    "    frequencies = librosa.fft_frequencies(sr=sr, n_fft=n_fft)\n",
    "\n",
    "    # filter undesired frequencies\n",
    "    less_than_min = frequencies < fmin\n",
    "    greather_than_max = frequencies > fmax\n",
    "\n",
    "    # Join the fmin and fmax undesired frequencies\n",
    "    undesired_frequencies = np.flatnonzero(np.logical_or(less_than_min, greather_than_max))\n",
    "\n",
    "    new_mag = stft_mag\n",
    "\n",
    "    for i in undesired_frequencies:\n",
    "        new_mag[i] = 0.0\n",
    "\n",
    "    filtered_audio = librosa.istft(new_mag * stft_phase, hop_length=hop_size,\n",
    "                                    win_length=window_size, window=\"hann\", center=True,\n",
    "                                    length=len(audio))\n",
    "\n",
    "    return filtered_audio"
   ]
  },
  {
   "attachments": {},
   "cell_type": "markdown",
   "metadata": {},
   "source": [
    "References to use\n",
    "\n",
    "- 2kHz-4kHz frequency range of an audio\n",
    "- 4kHz-6kHz frequency range of an audio\n",
    "- 6kHz-8kHz frequency range of an audio\n",
    "- 8kHz-10kHz frequency range of an audio\n",
    "- Gaussian noise\n",
    "- Impulsive noise"
   ]
  },
  {
   "attachments": {},
   "cell_type": "markdown",
   "metadata": {},
   "source": [
    "## Shrikumar et al. (2017) - DeepLift - Rescale Rule"
   ]
  },
  {
   "cell_type": "code",
   "execution_count": null,
   "metadata": {},
   "outputs": [],
   "source": [
    "def set_reference(method, audio, **kwargs):\n",
    "    \"\"\"Modifies an audio for compare references\"\"\"\n",
    "    new_audio = audio.copy()\n",
    "    if method == \"gaussian\":\n",
    "        kwargs.setdefault('cycles', 1)\n",
    "        for i in range(kwargs[\"cycles\"]):\n",
    "            new_audio += rng.normal(size=len(new_audio)) - rng.normal(size=len(new_audio))\n",
    "\n",
    "    elif method == \"impulsive\":\n",
    "        noise = rng.normal(size=len(new_audio))\n",
    "        new_audio = np.where(noise > 0.85, new_audio + noise, new_audio)\n",
    "\n",
    "    else:\n",
    "        freqs = method.split('-')\n",
    "        assert len(freqs) == 2, \"Invalid values for min frequency and max frequency\"\n",
    "        fmin, fmax = float(freqs[0])*1000, float(freqs[1])*1000\n",
    "\n",
    "        new_audio = filter_audio_frequencies(new_audio, fmin, fmax, kwargs[\"sr\"],\n",
    "                                            kwargs[\"n_fft\"], kwargs[\"hop_size\"])\n",
    "\n",
    "    return new_audio"
   ]
  },
  {
   "cell_type": "code",
   "execution_count": null,
   "metadata": {},
   "outputs": [],
   "source": [
    "baseline_2k = []\n",
    "for audio in inp_data:\n",
    "    baseline_2k.append(set_reference(\"2-4\", audio.cpu().detach().numpy(), **{\"sr\": sr, \"n_fft\": n_fft, \"hop_size\": hop_length}))\n",
    "\n",
    "baseline_2k = move_data_to_device(np.array(baseline_2k), device)"
   ]
  },
  {
   "cell_type": "code",
   "execution_count": null,
   "metadata": {},
   "outputs": [],
   "source": [
    "baseline_4k = []\n",
    "for audio in inp_data:\n",
    "    baseline_4k.append(set_reference(\"4-6\", audio.cpu().detach().numpy(), **{\"sr\": sr, \"n_fft\": n_fft, \"hop_size\": hop_length}))\n",
    "\n",
    "baseline_4k = move_data_to_device(np.array(baseline_4k), device)"
   ]
  },
  {
   "cell_type": "code",
   "execution_count": null,
   "metadata": {},
   "outputs": [],
   "source": [
    "baseline_6k = []\n",
    "for audio in inp_data:\n",
    "    baseline_6k.append(set_reference(\"6-8\", audio.cpu().detach().numpy(), **{\"sr\": sr, \"n_fft\": n_fft, \"hop_size\": hop_length}))\n",
    "\n",
    "baseline_6k = move_data_to_device(np.array(baseline_6k), device)"
   ]
  },
  {
   "cell_type": "code",
   "execution_count": null,
   "metadata": {},
   "outputs": [],
   "source": [
    "baseline_8k = []\n",
    "for audio in inp_data:\n",
    "    baseline_8k.append(set_reference(\"8-10\", audio.cpu().detach().numpy(), **{\"sr\": sr, \"n_fft\": n_fft, \"hop_size\": hop_length}))\n",
    "\n",
    "baseline_8k = move_data_to_device(np.array(baseline_8k), device)"
   ]
  },
  {
   "cell_type": "code",
   "execution_count": null,
   "metadata": {},
   "outputs": [],
   "source": [
    "baseline_gaussian = []\n",
    "for audio in inp_data:\n",
    "    baseline_gaussian.append(set_reference(\"gaussian\", audio.cpu().detach().numpy(), **{\"sr\": sr, \"n_fft\": n_fft, \"hop_size\": hop_length}))\n",
    "\n",
    "baseline_gaussian = move_data_to_device(np.array(baseline_gaussian), device)"
   ]
  },
  {
   "cell_type": "code",
   "execution_count": null,
   "metadata": {},
   "outputs": [],
   "source": [
    "baseline_impulsive = []\n",
    "for audio in inp_data:\n",
    "    baseline_impulsive.append(set_reference(\"impulsive\", audio.cpu().detach().numpy(), **{\"sr\": sr, \"n_fft\": n_fft, \"hop_size\": hop_length}))\n",
    "\n",
    "baseline_impulsive = move_data_to_device(np.array(baseline_impulsive), device)"
   ]
  },
  {
   "attachments": {},
   "cell_type": "markdown",
   "metadata": {},
   "source": [
    "### Model attribution"
   ]
  },
  {
   "cell_type": "code",
   "execution_count": null,
   "metadata": {},
   "outputs": [],
   "source": [
    "dl = DeepLift(logged_model)"
   ]
  },
  {
   "cell_type": "code",
   "execution_count": null,
   "metadata": {},
   "outputs": [],
   "source": [
    "def model_importance(dl, inp_data, baseline, target, label):\n",
    "    \"\"\"Computes the frames importance given a reference and the target classes\"\"\"\n",
    "\n",
    "    attributions = dl.attribute(inp_data, baseline, target=target)\n",
    "    plot_frame_attributions(attributions, title=f\"Average frames importance for {label} using DeepLift\")\n",
    "    return attributions"
   ]
  },
  {
   "attachments": {},
   "cell_type": "markdown",
   "metadata": {},
   "source": [
    "#### Silent audio\n",
    "\n",
    "0 tensor"
   ]
  },
  {
   "attachments": {},
   "cell_type": "markdown",
   "metadata": {},
   "source": [
    "Compute attributions for S. albilora call and syllables"
   ]
  },
  {
   "cell_type": "code",
   "execution_count": null,
   "metadata": {},
   "outputs": [],
   "source": [
    "ca_attribution = dl.attribute(inp_data, target=target[0])"
   ]
  },
  {
   "cell_type": "code",
   "execution_count": null,
   "metadata": {},
   "outputs": [],
   "source": [
    "syl1_attribution = dl.attribute(inp_data, target=target[1])"
   ]
  },
  {
   "cell_type": "code",
   "execution_count": null,
   "metadata": {},
   "outputs": [],
   "source": [
    "syl2_attribution = dl.attribute(inp_data, target=target[2])"
   ]
  },
  {
   "cell_type": "code",
   "execution_count": null,
   "metadata": {},
   "outputs": [],
   "source": [
    "plot_frame_attributions(ca_attribution, title=\"Average Frames importance using DeepLift\")"
   ]
  },
  {
   "cell_type": "code",
   "execution_count": null,
   "metadata": {},
   "outputs": [],
   "source": [
    "plot_frame_attributions(syl1_attribution, \"Average Frames importance using DeepLift\")"
   ]
  },
  {
   "cell_type": "code",
   "execution_count": null,
   "metadata": {},
   "outputs": [],
   "source": [
    "plot_frame_attributions(syl2_attribution, \"Average Frames importance using DeepLift\")"
   ]
  },
  {
   "cell_type": "code",
   "execution_count": null,
   "metadata": {},
   "outputs": [],
   "source": [
    "# The detected class(es) for the first experiment with 100 iterations\n",
    "others_attributions = deconv.attribute(inp_data, target=lb_to_idx[\"others\"])"
   ]
  },
  {
   "cell_type": "code",
   "execution_count": null,
   "metadata": {},
   "outputs": [],
   "source": [
    "plot_frame_attributions(others_attributions, \"Average Frames importance using DeepLift\")"
   ]
  },
  {
   "attachments": {},
   "cell_type": "markdown",
   "metadata": {},
   "source": [
    "Behavior for background"
   ]
  },
  {
   "cell_type": "code",
   "execution_count": null,
   "metadata": {},
   "outputs": [],
   "source": [
    "savanna = [idx for label, idx in lb_to_idx.items() if label.startswith(\"SAV\")]"
   ]
  },
  {
   "cell_type": "code",
   "execution_count": null,
   "metadata": {},
   "outputs": [],
   "source": [
    "sav_dry_attributions = deconv.attribute(inp_data, target=savanna[0])\n",
    "plot_frame_attributions(sav_dry_attributions, \"Average Frames importance using DeepLift\")"
   ]
  },
  {
   "cell_type": "code",
   "execution_count": null,
   "metadata": {},
   "outputs": [],
   "source": [
    "sav_wet_attributions = deconv.attribute(inp_data, target=savanna[1])\n",
    "plot_frame_attributions(sav_wet_attributions, \"Average Frames importance using DeepLift\")"
   ]
  },
  {
   "cell_type": "code",
   "execution_count": null,
   "metadata": {},
   "outputs": [],
   "source": [
    "forest = [idx for label, idx in lb_to_idx.items() if label.startswith(\"FOR\")]"
   ]
  },
  {
   "cell_type": "code",
   "execution_count": null,
   "metadata": {},
   "outputs": [],
   "source": [
    "for_dry_attributions = deconv.attribute(inp_data, target=forest[0])\n",
    "plot_frame_attributions(for_dry_attributions, \"Average Frames importance using DeepLift\")"
   ]
  },
  {
   "cell_type": "code",
   "execution_count": null,
   "metadata": {},
   "outputs": [],
   "source": [
    "for_wet_attributions = deconv.attribute(inp_data, target=forest[1])\n",
    "plot_frame_attributions(for_wet_attributions, \"Average Frames importance using DeepLift\")"
   ]
  },
  {
   "attachments": {},
   "cell_type": "markdown",
   "metadata": {},
   "source": [
    "#### Frequency range and noise"
   ]
  },
  {
   "attachments": {},
   "cell_type": "markdown",
   "metadata": {},
   "source": [
    "2kHz-4kHz activity"
   ]
  },
  {
   "cell_type": "code",
   "execution_count": null,
   "metadata": {},
   "outputs": [],
   "source": [
    "ca_attributions = model_importance(dl, inp_data, baseline_2k, target[0], \"Synallaxis Albilora call\")\n",
    "syl1_attributions = model_importance(dl, inp_data, baseline_2k, target[1], \"Synallaxis Albilora syllable 1\")\n",
    "syl2_attributions = model_importance(dl, inp_data, baseline_2k, target[2], \"Synallaxis Albilora syllable 2\")\n",
    "\n",
    "others_attributions = model_importance(dl, inp_data, baseline_2k, lb_to_idx[\"others\"], \"Other birds call\")"
   ]
  },
  {
   "attachments": {},
   "cell_type": "markdown",
   "metadata": {},
   "source": [
    "4kHz-6kHz activity"
   ]
  },
  {
   "cell_type": "code",
   "execution_count": null,
   "metadata": {},
   "outputs": [],
   "source": [
    "ca_attributions = model_importance(dl, inp_data, baseline_4k, target[0], \"Synallaxis Albilora call\")\n",
    "syl1_attributions = model_importance(dl, inp_data, baseline_4k, target[1], \"Synallaxis Albilora syllable 1\")\n",
    "syl2_attributions = model_importance(dl, inp_data, baseline_4k, target[2], \"Synallaxis Albilora syllable 2\")\n",
    "\n",
    "others_attributions = model_importance(dl, inp_data, baseline_4k, lb_to_idx[\"others\"], \"Other birds call\")"
   ]
  },
  {
   "attachments": {},
   "cell_type": "markdown",
   "metadata": {},
   "source": [
    "6kHz-8kHz activity"
   ]
  },
  {
   "cell_type": "code",
   "execution_count": null,
   "metadata": {},
   "outputs": [],
   "source": [
    "ca_attributions = model_importance(dl, inp_data, baseline_6k, target[0], \"Synallaxis Albilora call\")\n",
    "syl1_attributions = model_importance(dl, inp_data, baseline_6k, target[1], \"Synallaxis Albilora syllable 1\")\n",
    "syl2_attributions = model_importance(dl, inp_data, baseline_6k, target[2], \"Synallaxis Albilora syllable 2\")\n",
    "\n",
    "others_attributions = model_importance(dl, inp_data, baseline_6k, lb_to_idx[\"others\"], \"Other birds call\")"
   ]
  },
  {
   "attachments": {},
   "cell_type": "markdown",
   "metadata": {},
   "source": [
    "8kHz-10kHz activity"
   ]
  },
  {
   "cell_type": "code",
   "execution_count": null,
   "metadata": {},
   "outputs": [],
   "source": [
    "ca_attributions = model_importance(dl, inp_data, baseline_8k, target[0], \"Synallaxis Albilora call\")\n",
    "syl1_attributions = model_importance(dl, inp_data, baseline_8k, target[1], \"Synallaxis Albilora syllable 1\")\n",
    "syl2_attributions = model_importance(dl, inp_data, baseline_8k, target[2], \"Synallaxis Albilora syllable 2\")\n",
    "\n",
    "others_attributions = model_importance(dl, inp_data, baseline_8k, lb_to_idx[\"others\"], \"Other birds call\")"
   ]
  },
  {
   "attachments": {},
   "cell_type": "markdown",
   "metadata": {},
   "source": [
    "Gaussian noise"
   ]
  },
  {
   "cell_type": "code",
   "execution_count": null,
   "metadata": {},
   "outputs": [],
   "source": [
    "ca_attributions = model_importance(dl, inp_data, baseline_gaussian, target[0], \"Synallaxis Albilora call\")\n",
    "syl1_attributions = model_importance(dl, inp_data, baseline_gaussian, target[1], \"Synallaxis Albilora syllable 1\")\n",
    "syl2_attributions = model_importance(dl, inp_data, baseline_gaussian, target[2], \"Synallaxis Albilora syllable 2\")\n",
    "\n",
    "others_attributions = model_importance(dl, inp_data, baseline_gaussian, lb_to_idx[\"others\"], \"Other birds call\")"
   ]
  },
  {
   "attachments": {},
   "cell_type": "markdown",
   "metadata": {},
   "source": [
    "Impulsive noise"
   ]
  },
  {
   "cell_type": "code",
   "execution_count": null,
   "metadata": {},
   "outputs": [],
   "source": [
    "ca_attributions = model_importance(dl, inp_data, baseline_impulsive, target[0], \"Synallaxis Albilora call\")\n",
    "syl1_attributions = model_importance(dl, inp_data, baseline_impulsive, target[1], \"Synallaxis Albilora syllable 1\")\n",
    "syl2_attributions = model_importance(dl, inp_data, baseline_impulsive, target[2], \"Synallaxis Albilora syllable 2\")\n",
    "\n",
    "others_attributions = model_importance(dl, inp_data, baseline_impulsive, lb_to_idx[\"others\"], \"Other birds call\")"
   ]
  },
  {
   "attachments": {},
   "cell_type": "markdown",
   "metadata": {},
   "source": [
    "### Block attribution"
   ]
  },
  {
   "attachments": {},
   "cell_type": "markdown",
   "metadata": {},
   "source": [
    "#### First block"
   ]
  },
  {
   "cell_type": "code",
   "execution_count": null,
   "metadata": {},
   "outputs": [],
   "source": [
    "dl_first_conv_block = LayerDeepLift(logged_model, logged_model.base.conv_block1)"
   ]
  },
  {
   "attachments": {},
   "cell_type": "markdown",
   "metadata": {},
   "source": [
    "##### Silent audio"
   ]
  },
  {
   "cell_type": "code",
   "execution_count": null,
   "metadata": {},
   "outputs": [],
   "source": [
    "ca_attributions = dl_first_conv_block.attribute(inp_data, target=target[0])"
   ]
  },
  {
   "cell_type": "code",
   "execution_count": null,
   "metadata": {},
   "outputs": [],
   "source": [
    "syl1_attributions = dl_first_conv_block.attribute(inp_data, target=target[1])"
   ]
  },
  {
   "cell_type": "code",
   "execution_count": null,
   "metadata": {},
   "outputs": [],
   "source": [
    "syl2_attributions = dl_first_conv_block.attribute(inp_data, target=target[2])"
   ]
  },
  {
   "cell_type": "code",
   "execution_count": null,
   "metadata": {},
   "outputs": [],
   "source": [
    "others_attributions = dl_first_conv_block.attribute(inp_data, target=lb_to_idx[\"others\"])"
   ]
  },
  {
   "cell_type": "code",
   "execution_count": null,
   "metadata": {},
   "outputs": [],
   "source": [
    "plot_layer_attribution_importance(ca_attributions, \"Average importance for Synallaxis Albilora call using DeepLift\")"
   ]
  },
  {
   "cell_type": "code",
   "execution_count": null,
   "metadata": {},
   "outputs": [],
   "source": [
    "plot_layer_attribution_importance(syl1_attributions, \"Average importance for Synallaxis Albilora 1th syllable using DeepLift\")"
   ]
  },
  {
   "cell_type": "code",
   "execution_count": null,
   "metadata": {},
   "outputs": [],
   "source": [
    "plot_layer_attribution_importance(syl2_attributions, \"Average importance for Synallaxis Albilora 2th syllable using DeepLift\")"
   ]
  },
  {
   "cell_type": "code",
   "execution_count": null,
   "metadata": {},
   "outputs": [],
   "source": [
    "plot_layer_attribution_importance(others_attributions, \"Average importance for other birds call using DeepLift\")"
   ]
  },
  {
   "attachments": {},
   "cell_type": "markdown",
   "metadata": {},
   "source": [
    "##### Frequency range and noise"
   ]
  },
  {
   "cell_type": "markdown",
   "metadata": {},
   "source": [
    "2kHz-4kHz activity"
   ]
  },
  {
   "cell_type": "code",
   "execution_count": null,
   "metadata": {},
   "outputs": [],
   "source": [
    "ca_attributions = dl_first_conv_block.attribute(inp_data, baseline_2k, target[0])\n",
    "plot_layer_attribution_importance(ca_attributions, \"Average importance for Synallaxis Albilora call using DeepLift\")"
   ]
  },
  {
   "cell_type": "code",
   "execution_count": null,
   "metadata": {},
   "outputs": [],
   "source": [
    "syl1_attributions = dl_first_conv_block.attribute(inp_data, baseline_2k, target[1])\n",
    "plot_layer_attribution_importance(syl1_attributions, \"Average importance for Synallaxis Albilora 1th syllable using DeepLift\")"
   ]
  },
  {
   "cell_type": "code",
   "execution_count": null,
   "metadata": {},
   "outputs": [],
   "source": [
    "syl2_attributions = dl_first_conv_block.attribute(inp_data, baseline_2k, target[2])\n",
    "plot_layer_attribution_importance(syl2_attributions, \"Average importance for Synallaxis Albilora 2th syllable using DeepLift\")"
   ]
  },
  {
   "cell_type": "code",
   "execution_count": null,
   "metadata": {},
   "outputs": [],
   "source": [
    "others_attributions = dl_first_conv_block.attribute(inp_data, baseline_2k, lb_to_idx[\"others\"])\n",
    "plot_layer_attribution_importance(others_attributions, \"Average importance for other birds call using DeepLift\")"
   ]
  },
  {
   "cell_type": "markdown",
   "metadata": {},
   "source": [
    "4kHz-6kHz activity"
   ]
  },
  {
   "cell_type": "code",
   "execution_count": null,
   "metadata": {},
   "outputs": [],
   "source": [
    "ca_attributions = dl_first_conv_block.attribute(inp_data, baseline_4k, target[0])\n",
    "plot_layer_attribution_importance(ca_attributions, \"Average importance for Synallaxis Albilora call using DeepLift\")"
   ]
  },
  {
   "cell_type": "code",
   "execution_count": null,
   "metadata": {},
   "outputs": [],
   "source": [
    "syl1_attributions = dl_first_conv_block.attribute(inp_data, baseline_4k, target[1])\n",
    "plot_layer_attribution_importance(syl1_attributions, \"Average importance for Synallaxis Albilora 1th syllable using DeepLift\")"
   ]
  },
  {
   "cell_type": "code",
   "execution_count": null,
   "metadata": {},
   "outputs": [],
   "source": [
    "syl2_attributions = dl_first_conv_block.attribute(inp_data, baseline_4k, target[2])\n",
    "plot_layer_attribution_importance(syl2_attributions, \"Average importance for Synallaxis Albilora 2th syllable using DeepLift\")"
   ]
  },
  {
   "cell_type": "code",
   "execution_count": null,
   "metadata": {},
   "outputs": [],
   "source": [
    "others_attributions = dl_first_conv_block.attribute(inp_data, baseline_4k, lb_to_idx[\"others\"])\n",
    "plot_layer_attribution_importance(others_attributions, \"Average importance for other birds call using DeepLift\")"
   ]
  },
  {
   "cell_type": "markdown",
   "metadata": {},
   "source": [
    "6kHz-8kHz activity"
   ]
  },
  {
   "cell_type": "code",
   "execution_count": null,
   "metadata": {},
   "outputs": [],
   "source": [
    "ca_attributions = dl_first_conv_block.attribute(inp_data, baseline_6k, target[0])\n",
    "plot_layer_attribution_importance(ca_attributions, \"Average importance for Synallaxis Albilora call using DeepLift\")"
   ]
  },
  {
   "cell_type": "code",
   "execution_count": null,
   "metadata": {},
   "outputs": [],
   "source": [
    "syl1_attributions = dl_first_conv_block.attribute(inp_data, baseline_6k, target[1])\n",
    "plot_layer_attribution_importance(syl1_attributions, \"Average importance for Synallaxis Albilora 1th syllable using DeepLift\")"
   ]
  },
  {
   "cell_type": "code",
   "execution_count": null,
   "metadata": {},
   "outputs": [],
   "source": [
    "syl2_attributions = dl_first_conv_block.attribute(inp_data, baseline_6k, target[2])\n",
    "plot_layer_attribution_importance(syl2_attributions, \"Average importance for Synallaxis Albilora 2th syllable using DeepLift\")"
   ]
  },
  {
   "cell_type": "code",
   "execution_count": null,
   "metadata": {},
   "outputs": [],
   "source": [
    "others_attributions = dl_first_conv_block.attribute(inp_data, baseline_6k, lb_to_idx[\"others\"])\n",
    "plot_layer_attribution_importance(others_attributions, \"Average importance for other birds call using DeepLift\")"
   ]
  },
  {
   "cell_type": "markdown",
   "metadata": {},
   "source": [
    "8kHz-10kHz activity"
   ]
  },
  {
   "cell_type": "code",
   "execution_count": null,
   "metadata": {},
   "outputs": [],
   "source": [
    "ca_attributions = dl_first_conv_block.attribute(inp_data, baseline_8k, target[0])\n",
    "plot_layer_attribution_importance(ca_attributions, \"Average importance for Synallaxis Albilora call using DeepLift\")"
   ]
  },
  {
   "cell_type": "code",
   "execution_count": null,
   "metadata": {},
   "outputs": [],
   "source": [
    "syl1_attributions = dl_first_conv_block.attribute(inp_data, baseline_8k, target[1])\n",
    "plot_layer_attribution_importance(syl1_attributions, \"Average importance for Synallaxis Albilora 1th syllable using DeepLift\")"
   ]
  },
  {
   "cell_type": "code",
   "execution_count": null,
   "metadata": {},
   "outputs": [],
   "source": [
    "syl2_attributions = dl_first_conv_block.attribute(inp_data, baseline_8k, target[2])\n",
    "plot_layer_attribution_importance(syl2_attributions, \"Average importance for Synallaxis Albilora 2th syllable using DeepLift\")"
   ]
  },
  {
   "cell_type": "code",
   "execution_count": null,
   "metadata": {},
   "outputs": [],
   "source": [
    "others_attributions = dl_first_conv_block.attribute(inp_data, baseline_8k, lb_to_idx[\"others\"])\n",
    "plot_layer_attribution_importance(others_attributions, \"Average importance for other birds call using DeepLift\")"
   ]
  },
  {
   "cell_type": "markdown",
   "metadata": {},
   "source": [
    "Gaussian noise"
   ]
  },
  {
   "cell_type": "code",
   "execution_count": null,
   "metadata": {},
   "outputs": [],
   "source": [
    "ca_attributions = dl_first_conv_block.attribute(inp_data, baseline_gaussian, target[0])\n",
    "plot_layer_attribution_importance(ca_attributions, \"Average importance for Synallaxis Albilora call using DeepLift\")"
   ]
  },
  {
   "cell_type": "code",
   "execution_count": null,
   "metadata": {},
   "outputs": [],
   "source": [
    "syl1_attributions = dl_first_conv_block.attribute(inp_data, baseline_gaussian, target[1])\n",
    "plot_layer_attribution_importance(syl1_attributions, \"Average importance for Synallaxis Albilora 1th syllable using DeepLift\")"
   ]
  },
  {
   "cell_type": "code",
   "execution_count": null,
   "metadata": {},
   "outputs": [],
   "source": [
    "syl2_attributions = dl_first_conv_block.attribute(inp_data, baseline_gaussian, target[2])\n",
    "plot_layer_attribution_importance(syl2_attributions, \"Average importance for Synallaxis Albilora 2th syllable using DeepLift\")"
   ]
  },
  {
   "cell_type": "code",
   "execution_count": null,
   "metadata": {},
   "outputs": [],
   "source": [
    "others_attributions = dl_first_conv_block.attribute(inp_data, baseline_gaussian, lb_to_idx[\"others\"])\n",
    "plot_layer_attribution_importance(others_attributions, \"Average importance for other birds call using DeepLift\")"
   ]
  },
  {
   "cell_type": "markdown",
   "metadata": {},
   "source": [
    "Impulsive noise"
   ]
  },
  {
   "cell_type": "code",
   "execution_count": null,
   "metadata": {},
   "outputs": [],
   "source": [
    "ca_attributions = dl_first_conv_block.attribute(inp_data, baseline_impulsive, target[0])\n",
    "plot_layer_attribution_importance(ca_attributions, \"Average importance for Synallaxis Albilora call using DeepLift\")"
   ]
  },
  {
   "cell_type": "code",
   "execution_count": null,
   "metadata": {},
   "outputs": [],
   "source": [
    "syl1_attributions = dl_first_conv_block.attribute(inp_data, baseline_impulsive, target[1])\n",
    "plot_layer_attribution_importance(syl1_attributions, \"Average importance for Synallaxis Albilora 1th syllable using DeepLift\")"
   ]
  },
  {
   "cell_type": "code",
   "execution_count": null,
   "metadata": {},
   "outputs": [],
   "source": [
    "syl2_attributions = dl_first_conv_block.attribute(inp_data, baseline_impulsive, target[2])\n",
    "plot_layer_attribution_importance(syl2_attributions, \"Average importance for Synallaxis Albilora 2th syllable using DeepLift\")"
   ]
  },
  {
   "cell_type": "code",
   "execution_count": null,
   "metadata": {},
   "outputs": [],
   "source": [
    "others_attributions = dl_first_conv_block.attribute(inp_data, baseline_impulsive, lb_to_idx[\"others\"])\n",
    "plot_layer_attribution_importance(others_attributions, \"Average importance for other birds call using DeepLift\")"
   ]
  },
  {
   "attachments": {},
   "cell_type": "markdown",
   "metadata": {},
   "source": [
    "#### 2th block"
   ]
  },
  {
   "cell_type": "code",
   "execution_count": null,
   "metadata": {},
   "outputs": [],
   "source": [
    "dl_second_conv_block = LayerDeepLift(logged_model, logged_model.base.conv_block2)"
   ]
  },
  {
   "cell_type": "markdown",
   "metadata": {},
   "source": [
    "##### Silent audio"
   ]
  },
  {
   "cell_type": "code",
   "execution_count": null,
   "metadata": {},
   "outputs": [],
   "source": [
    "ca_attributions = dl_second_conv_block.attribute(inp_data, target=target[0])"
   ]
  },
  {
   "cell_type": "code",
   "execution_count": null,
   "metadata": {},
   "outputs": [],
   "source": [
    "syl1_attributions = dl_second_conv_block.attribute(inp_data, target=target[1])"
   ]
  },
  {
   "cell_type": "code",
   "execution_count": null,
   "metadata": {},
   "outputs": [],
   "source": [
    "syl2_attributions = dl_second_conv_block.attribute(inp_data, target=target[2])"
   ]
  },
  {
   "cell_type": "code",
   "execution_count": null,
   "metadata": {},
   "outputs": [],
   "source": [
    "others_attributions = dl_second_conv_block.attribute(inp_data, target=lb_to_idx[\"others\"])"
   ]
  },
  {
   "cell_type": "code",
   "execution_count": null,
   "metadata": {},
   "outputs": [],
   "source": [
    "plot_layer_attribution_importance(ca_attributions, \"Average importance for Synallaxis Albilora call using DeepLift\")"
   ]
  },
  {
   "cell_type": "code",
   "execution_count": null,
   "metadata": {},
   "outputs": [],
   "source": [
    "plot_layer_attribution_importance(syl1_attributions, \"Average importance for Synallaxis Albilora 1th syllable using DeepLift\")"
   ]
  },
  {
   "cell_type": "code",
   "execution_count": null,
   "metadata": {},
   "outputs": [],
   "source": [
    "plot_layer_attribution_importance(syl2_attributions, \"Average importance for Synallaxis Albilora 2th syllable using DeepLift\")"
   ]
  },
  {
   "cell_type": "code",
   "execution_count": null,
   "metadata": {},
   "outputs": [],
   "source": [
    "plot_layer_attribution_importance(others_attributions, \"Average importance for other birds call using DeepLift\")"
   ]
  },
  {
   "cell_type": "markdown",
   "metadata": {},
   "source": [
    "##### Frequency range and noise"
   ]
  },
  {
   "cell_type": "markdown",
   "metadata": {},
   "source": [
    "2kHz-4kHz activity"
   ]
  },
  {
   "cell_type": "code",
   "execution_count": null,
   "metadata": {},
   "outputs": [],
   "source": [
    "ca_attributions = dl_second_conv_block.attribute(inp_data, baseline_2k, target[0])\n",
    "plot_layer_attribution_importance(ca_attributions, \"Average importance for Synallaxis Albilora call using DeepLift\")"
   ]
  },
  {
   "cell_type": "code",
   "execution_count": null,
   "metadata": {},
   "outputs": [],
   "source": [
    "syl1_attributions = dl_second_conv_block.attribute(inp_data, baseline_2k, target[1])\n",
    "plot_layer_attribution_importance(syl1_attributions, \"Average importance for Synallaxis Albilora 1th syllable using DeepLift\")"
   ]
  },
  {
   "cell_type": "code",
   "execution_count": null,
   "metadata": {},
   "outputs": [],
   "source": [
    "syl2_attributions = dl_second_conv_block.attribute(inp_data, baseline_2k, target[2])\n",
    "plot_layer_attribution_importance(syl2_attributions, \"Average importance for Synallaxis Albilora 2th syllable using DeepLift\")"
   ]
  },
  {
   "cell_type": "code",
   "execution_count": null,
   "metadata": {},
   "outputs": [],
   "source": [
    "others_attributions = dl_second_conv_block.attribute(inp_data, baseline_2k, lb_to_idx[\"others\"])\n",
    "plot_layer_attribution_importance(others_attributions, \"Average importance for other birds call using DeepLift\")"
   ]
  },
  {
   "cell_type": "markdown",
   "metadata": {},
   "source": [
    "4kHz-6kHz activity"
   ]
  },
  {
   "cell_type": "code",
   "execution_count": null,
   "metadata": {},
   "outputs": [],
   "source": [
    "ca_attributions = dl_second_conv_block.attribute(inp_data, baseline_4k, target[0])\n",
    "plot_layer_attribution_importance(ca_attributions, \"Average importance for Synallaxis Albilora call using DeepLift\")"
   ]
  },
  {
   "cell_type": "code",
   "execution_count": null,
   "metadata": {},
   "outputs": [],
   "source": [
    "syl1_attributions = dl_second_conv_block.attribute(inp_data, baseline_4k, target[1])\n",
    "plot_layer_attribution_importance(syl1_attributions, \"Average importance for Synallaxis Albilora 1th syllable using DeepLift\")"
   ]
  },
  {
   "cell_type": "code",
   "execution_count": null,
   "metadata": {},
   "outputs": [],
   "source": [
    "syl2_attributions = dl_second_conv_block.attribute(inp_data, baseline_4k, target[2])\n",
    "plot_layer_attribution_importance(syl2_attributions, \"Average importance for Synallaxis Albilora 2th syllable using DeepLift\")"
   ]
  },
  {
   "cell_type": "code",
   "execution_count": null,
   "metadata": {},
   "outputs": [],
   "source": [
    "others_attributions = dl_second_conv_block.attribute(inp_data, baseline_4k, lb_to_idx[\"others\"])\n",
    "plot_layer_attribution_importance(others_attributions, \"Average importance for other birds call using DeepLift\")"
   ]
  },
  {
   "cell_type": "markdown",
   "metadata": {},
   "source": [
    "6kHz-8kHz activity"
   ]
  },
  {
   "cell_type": "code",
   "execution_count": null,
   "metadata": {},
   "outputs": [],
   "source": [
    "ca_attributions = dl_second_conv_block.attribute(inp_data, baseline_6k, target[0])\n",
    "plot_layer_attribution_importance(ca_attributions, \"Average importance for Synallaxis Albilora call using DeepLift\")"
   ]
  },
  {
   "cell_type": "code",
   "execution_count": null,
   "metadata": {},
   "outputs": [],
   "source": [
    "syl1_attributions = dl_second_conv_block.attribute(inp_data, baseline_6k, target[1])\n",
    "plot_layer_attribution_importance(syl1_attributions, \"Average importance for Synallaxis Albilora 1th syllable using DeepLift\")"
   ]
  },
  {
   "cell_type": "code",
   "execution_count": null,
   "metadata": {},
   "outputs": [],
   "source": [
    "syl2_attributions = dl_second_conv_block.attribute(inp_data, baseline_6k, target[2])\n",
    "plot_layer_attribution_importance(syl2_attributions, \"Average importance for Synallaxis Albilora 2th syllable using DeepLift\")"
   ]
  },
  {
   "cell_type": "code",
   "execution_count": null,
   "metadata": {},
   "outputs": [],
   "source": [
    "others_attributions = dl_second_conv_block.attribute(inp_data, baseline_6k, lb_to_idx[\"others\"])\n",
    "plot_layer_attribution_importance(others_attributions, \"Average importance for other birds call using DeepLift\")"
   ]
  },
  {
   "cell_type": "markdown",
   "metadata": {},
   "source": [
    "8kHz-10kHz activity"
   ]
  },
  {
   "cell_type": "code",
   "execution_count": null,
   "metadata": {},
   "outputs": [],
   "source": [
    "ca_attributions = dl_second_conv_block.attribute(inp_data, baseline_8k, target[0])\n",
    "plot_layer_attribution_importance(ca_attributions, \"Average importance for Synallaxis Albilora call using DeepLift\")"
   ]
  },
  {
   "cell_type": "code",
   "execution_count": null,
   "metadata": {},
   "outputs": [],
   "source": [
    "syl1_attributions = dl_second_conv_block.attribute(inp_data, baseline_8k, target[1])\n",
    "plot_layer_attribution_importance(syl1_attributions, \"Average importance for Synallaxis Albilora 1th syllable using DeepLift\")"
   ]
  },
  {
   "cell_type": "code",
   "execution_count": null,
   "metadata": {},
   "outputs": [],
   "source": [
    "syl2_attributions = dl_second_conv_block.attribute(inp_data, baseline_8k, target[2])\n",
    "plot_layer_attribution_importance(syl2_attributions, \"Average importance for Synallaxis Albilora 2th syllable using DeepLift\")"
   ]
  },
  {
   "cell_type": "code",
   "execution_count": null,
   "metadata": {},
   "outputs": [],
   "source": [
    "others_attributions = dl_second_conv_block.attribute(inp_data, baseline_8k, lb_to_idx[\"others\"])\n",
    "plot_layer_attribution_importance(others_attributions, \"Average importance for other birds call using DeepLift\")"
   ]
  },
  {
   "cell_type": "markdown",
   "metadata": {},
   "source": [
    "Gaussian noise"
   ]
  },
  {
   "cell_type": "code",
   "execution_count": null,
   "metadata": {},
   "outputs": [],
   "source": [
    "ca_attributions = dl_second_conv_block.attribute(inp_data, baseline_gaussian, target[0])\n",
    "plot_layer_attribution_importance(ca_attributions, \"Average importance for Synallaxis Albilora call using DeepLift\")"
   ]
  },
  {
   "cell_type": "code",
   "execution_count": null,
   "metadata": {},
   "outputs": [],
   "source": [
    "syl1_attributions = dl_second_conv_block.attribute(inp_data, baseline_gaussian, target[1])\n",
    "plot_layer_attribution_importance(syl1_attributions, \"Average importance for Synallaxis Albilora 1th syllable using DeepLift\")"
   ]
  },
  {
   "cell_type": "code",
   "execution_count": null,
   "metadata": {},
   "outputs": [],
   "source": [
    "syl2_attributions = dl_second_conv_block.attribute(inp_data, baseline_gaussian, target[2])\n",
    "plot_layer_attribution_importance(syl2_attributions, \"Average importance for Synallaxis Albilora 2th syllable using DeepLift\")"
   ]
  },
  {
   "cell_type": "code",
   "execution_count": null,
   "metadata": {},
   "outputs": [],
   "source": [
    "others_attributions = dl_second_conv_block.attribute(inp_data, baseline_gaussian, lb_to_idx[\"others\"])\n",
    "plot_layer_attribution_importance(others_attributions, \"Average importance for other birds call using DeepLift\")"
   ]
  },
  {
   "cell_type": "markdown",
   "metadata": {},
   "source": [
    "Impulsive noise"
   ]
  },
  {
   "cell_type": "code",
   "execution_count": null,
   "metadata": {},
   "outputs": [],
   "source": [
    "ca_attributions = dl_second_conv_block.attribute(inp_data, baseline_impulsive, target[0])\n",
    "plot_layer_attribution_importance(ca_attributions, \"Average importance for Synallaxis Albilora call using DeepLift\")"
   ]
  },
  {
   "cell_type": "code",
   "execution_count": null,
   "metadata": {},
   "outputs": [],
   "source": [
    "syl1_attributions = dl_second_conv_block.attribute(inp_data, baseline_impulsive, target[1])\n",
    "plot_layer_attribution_importance(syl1_attributions, \"Average importance for Synallaxis Albilora 1th syllable using DeepLift\")"
   ]
  },
  {
   "cell_type": "code",
   "execution_count": null,
   "metadata": {},
   "outputs": [],
   "source": [
    "syl2_attributions = dl_second_conv_block.attribute(inp_data, baseline_impulsive, target[2])\n",
    "plot_layer_attribution_importance(syl2_attributions, \"Average importance for Synallaxis Albilora 2th syllable using DeepLift\")"
   ]
  },
  {
   "cell_type": "code",
   "execution_count": null,
   "metadata": {},
   "outputs": [],
   "source": [
    "others_attributions = dl_second_conv_block.attribute(inp_data, baseline_impulsive, lb_to_idx[\"others\"])\n",
    "plot_layer_attribution_importance(others_attributions, \"Average importance for other birds call using DeepLift\")"
   ]
  },
  {
   "attachments": {},
   "cell_type": "markdown",
   "metadata": {},
   "source": [
    "#### 5th block"
   ]
  },
  {
   "cell_type": "code",
   "execution_count": null,
   "metadata": {},
   "outputs": [],
   "source": [
    "dl_fifth_conv_block = LayerDeepLift(logged_model, logged_model.base.conv_block5)"
   ]
  },
  {
   "cell_type": "markdown",
   "metadata": {},
   "source": [
    "##### Silent audio"
   ]
  },
  {
   "cell_type": "code",
   "execution_count": null,
   "metadata": {},
   "outputs": [],
   "source": [
    "ca_attributions = dl_fifth_conv_block.attribute(inp_data, target=target[0])"
   ]
  },
  {
   "cell_type": "code",
   "execution_count": null,
   "metadata": {},
   "outputs": [],
   "source": [
    "plot_layer_attribution_importance(ca_attributions, \"Average importance for Synallaxis Albilora call using DeepLift\")"
   ]
  },
  {
   "cell_type": "code",
   "execution_count": null,
   "metadata": {},
   "outputs": [],
   "source": [
    "syl1_attributions = dl_fifth_conv_block.attribute(inp_data, target=target[1])"
   ]
  },
  {
   "cell_type": "code",
   "execution_count": null,
   "metadata": {},
   "outputs": [],
   "source": [
    "plot_layer_attribution_importance(syl1_attributions, \"Average importance for Synallaxis Albilora 1th syllable using DeepLift\")"
   ]
  },
  {
   "cell_type": "code",
   "execution_count": null,
   "metadata": {},
   "outputs": [],
   "source": [
    "syl2_attributions = dl_fifth_conv_block.attribute(inp_data, target=target[2])"
   ]
  },
  {
   "cell_type": "code",
   "execution_count": null,
   "metadata": {},
   "outputs": [],
   "source": [
    "plot_layer_attribution_importance(syl2_attributions, \"Average importance for Synallaxis Albilora 2th syllable using DeepLift\")"
   ]
  },
  {
   "cell_type": "code",
   "execution_count": null,
   "metadata": {},
   "outputs": [],
   "source": [
    "others_attributions = dl_fifth_conv_block.attribute(inp_data, target=lb_to_idx[\"others\"])"
   ]
  },
  {
   "cell_type": "code",
   "execution_count": null,
   "metadata": {},
   "outputs": [],
   "source": [
    "plot_layer_attribution_importance(others_attributions, \"Average importance for other birds call using DeepLift\")"
   ]
  },
  {
   "cell_type": "markdown",
   "metadata": {},
   "source": [
    "##### Frequency range and noise"
   ]
  },
  {
   "cell_type": "markdown",
   "metadata": {},
   "source": [
    "2kHz-4kHz activity"
   ]
  },
  {
   "cell_type": "code",
   "execution_count": null,
   "metadata": {},
   "outputs": [],
   "source": [
    "ca_attributions = dl_fifth_conv_block.attribute(inp_data, baseline_2k, target[0])\n",
    "plot_layer_attribution_importance(ca_attributions, \"Average importance for Synallaxis Albilora call using DeepLift\")"
   ]
  },
  {
   "cell_type": "code",
   "execution_count": null,
   "metadata": {},
   "outputs": [],
   "source": [
    "syl1_attributions = dl_fifth_conv_block.attribute(inp_data, baseline_2k, target[1])\n",
    "plot_layer_attribution_importance(syl1_attributions, \"Average importance for Synallaxis Albilora 1th syllable using DeepLift\")"
   ]
  },
  {
   "cell_type": "code",
   "execution_count": null,
   "metadata": {},
   "outputs": [],
   "source": [
    "syl2_attributions = dl_fifth_conv_block.attribute(inp_data, baseline_2k, target[2])\n",
    "plot_layer_attribution_importance(syl2_attributions, \"Average importance for Synallaxis Albilora 2th syllable using DeepLift\")"
   ]
  },
  {
   "cell_type": "code",
   "execution_count": null,
   "metadata": {},
   "outputs": [],
   "source": [
    "others_attributions = dl_fifth_conv_block.attribute(inp_data, baseline_2k, lb_to_idx[\"others\"])\n",
    "plot_layer_attribution_importance(others_attributions, \"Average importance for other birds call using DeepLift\")"
   ]
  },
  {
   "cell_type": "markdown",
   "metadata": {},
   "source": [
    "4kHz-6kHz activity"
   ]
  },
  {
   "cell_type": "code",
   "execution_count": null,
   "metadata": {},
   "outputs": [],
   "source": [
    "ca_attributions = dl_fifth_conv_block.attribute(inp_data, baseline_4k, target[0])\n",
    "plot_layer_attribution_importance(ca_attributions, \"Average importance for Synallaxis Albilora call using DeepLift\")"
   ]
  },
  {
   "cell_type": "code",
   "execution_count": null,
   "metadata": {},
   "outputs": [],
   "source": [
    "syl1_attributions = dl_fifth_conv_block.attribute(inp_data, baseline_4k, target[1])\n",
    "plot_layer_attribution_importance(syl1_attributions, \"Average importance for Synallaxis Albilora 1th syllable using DeepLift\")"
   ]
  },
  {
   "cell_type": "code",
   "execution_count": null,
   "metadata": {},
   "outputs": [],
   "source": [
    "syl2_attributions = dl_fifth_conv_block.attribute(inp_data, baseline_4k, target[2])\n",
    "plot_layer_attribution_importance(syl2_attributions, \"Average importance for Synallaxis Albilora 2th syllable using DeepLift\")"
   ]
  },
  {
   "cell_type": "code",
   "execution_count": null,
   "metadata": {},
   "outputs": [],
   "source": [
    "others_attributions = dl_fifth_conv_block.attribute(inp_data, baseline_4k, lb_to_idx[\"others\"])\n",
    "plot_layer_attribution_importance(others_attributions, \"Average importance for other birds call using DeepLift\")"
   ]
  },
  {
   "cell_type": "markdown",
   "metadata": {},
   "source": [
    "6kHz-8kHz activity"
   ]
  },
  {
   "cell_type": "code",
   "execution_count": null,
   "metadata": {},
   "outputs": [],
   "source": [
    "ca_attributions = dl_fifth_conv_block.attribute(inp_data, baseline_6k, target[0])\n",
    "plot_layer_attribution_importance(ca_attributions, \"Average importance for Synallaxis Albilora call using DeepLift\")"
   ]
  },
  {
   "cell_type": "code",
   "execution_count": null,
   "metadata": {},
   "outputs": [],
   "source": [
    "syl1_attributions = dl_fifth_conv_block.attribute(inp_data, baseline_6k, target[1])\n",
    "plot_layer_attribution_importance(syl1_attributions, \"Average importance for Synallaxis Albilora 1th syllable using DeepLift\")"
   ]
  },
  {
   "cell_type": "code",
   "execution_count": null,
   "metadata": {},
   "outputs": [],
   "source": [
    "syl2_attributions = dl_fifth_conv_block.attribute(inp_data, baseline_6k, target[2])\n",
    "plot_layer_attribution_importance(syl2_attributions, \"Average importance for Synallaxis Albilora 2th syllable using DeepLift\")"
   ]
  },
  {
   "cell_type": "code",
   "execution_count": null,
   "metadata": {},
   "outputs": [],
   "source": [
    "others_attributions = dl_fifth_conv_block.attribute(inp_data, baseline_6k, lb_to_idx[\"others\"])\n",
    "plot_layer_attribution_importance(others_attributions, \"Average importance for other birds call using DeepLift\")"
   ]
  },
  {
   "cell_type": "markdown",
   "metadata": {},
   "source": [
    "8kHz-10kHz activity"
   ]
  },
  {
   "cell_type": "code",
   "execution_count": null,
   "metadata": {},
   "outputs": [],
   "source": [
    "ca_attributions = dl_fifth_conv_block.attribute(inp_data, baseline_8k, target[0])\n",
    "plot_layer_attribution_importance(ca_attributions, \"Average importance for Synallaxis Albilora call using DeepLift\")"
   ]
  },
  {
   "cell_type": "code",
   "execution_count": null,
   "metadata": {},
   "outputs": [],
   "source": [
    "syl1_attributions = dl_fifth_conv_block.attribute(inp_data, baseline_8k, target[1])\n",
    "plot_layer_attribution_importance(syl1_attributions, \"Average importance for Synallaxis Albilora 1th syllable using DeepLift\")"
   ]
  },
  {
   "cell_type": "code",
   "execution_count": null,
   "metadata": {},
   "outputs": [],
   "source": [
    "syl2_attributions = dl_fifth_conv_block.attribute(inp_data, baseline_8k, target[2])\n",
    "plot_layer_attribution_importance(syl2_attributions, \"Average importance for Synallaxis Albilora 2th syllable using DeepLift\")"
   ]
  },
  {
   "cell_type": "code",
   "execution_count": null,
   "metadata": {},
   "outputs": [],
   "source": [
    "others_attributions = dl_fifth_conv_block.attribute(inp_data, baseline_8k, lb_to_idx[\"others\"])\n",
    "plot_layer_attribution_importance(others_attributions, \"Average importance for other birds call using DeepLift\")"
   ]
  },
  {
   "cell_type": "markdown",
   "metadata": {},
   "source": [
    "Gaussian noise"
   ]
  },
  {
   "cell_type": "code",
   "execution_count": null,
   "metadata": {},
   "outputs": [],
   "source": [
    "ca_attributions = dl_fifth_conv_block.attribute(inp_data, baseline_gaussian, target[0])\n",
    "plot_layer_attribution_importance(ca_attributions, \"Average importance for Synallaxis Albilora call using DeepLift\")"
   ]
  },
  {
   "cell_type": "code",
   "execution_count": null,
   "metadata": {},
   "outputs": [],
   "source": [
    "syl1_attributions = dl_fifth_conv_block.attribute(inp_data, baseline_gaussian, target[1])\n",
    "plot_layer_attribution_importance(syl1_attributions, \"Average importance for Synallaxis Albilora 1th syllable using DeepLift\")"
   ]
  },
  {
   "cell_type": "code",
   "execution_count": null,
   "metadata": {},
   "outputs": [],
   "source": [
    "syl2_attributions = dl_fifth_conv_block.attribute(inp_data, baseline_gaussian, target[2])\n",
    "plot_layer_attribution_importance(syl2_attributions, \"Average importance for Synallaxis Albilora 2th syllable using DeepLift\")"
   ]
  },
  {
   "cell_type": "code",
   "execution_count": null,
   "metadata": {},
   "outputs": [],
   "source": [
    "others_attributions = dl_fifth_conv_block.attribute(inp_data, baseline_gaussian, lb_to_idx[\"others\"])\n",
    "plot_layer_attribution_importance(others_attributions, \"Average importance for other birds call using DeepLift\")"
   ]
  },
  {
   "cell_type": "markdown",
   "metadata": {},
   "source": [
    "Impulsive noise"
   ]
  },
  {
   "cell_type": "code",
   "execution_count": null,
   "metadata": {},
   "outputs": [],
   "source": [
    "ca_attributions = dl_fifth_conv_block.attribute(inp_data, baseline_impulsive, target[0])\n",
    "plot_layer_attribution_importance(ca_attributions, \"Average importance for Synallaxis Albilora call using DeepLift\")"
   ]
  },
  {
   "cell_type": "code",
   "execution_count": null,
   "metadata": {},
   "outputs": [],
   "source": [
    "syl1_attributions = dl_fifth_conv_block.attribute(inp_data, baseline_impulsive, target[1])\n",
    "plot_layer_attribution_importance(syl1_attributions, \"Average importance for Synallaxis Albilora 1th syllable using DeepLift\")"
   ]
  },
  {
   "cell_type": "code",
   "execution_count": null,
   "metadata": {},
   "outputs": [],
   "source": [
    "syl2_attributions = dl_fifth_conv_block.attribute(inp_data, baseline_impulsive, target[2])\n",
    "plot_layer_attribution_importance(syl2_attributions, \"Average importance for Synallaxis Albilora 2th syllable using DeepLift\")"
   ]
  },
  {
   "cell_type": "code",
   "execution_count": null,
   "metadata": {},
   "outputs": [],
   "source": [
    "others_attributions = dl_fifth_conv_block.attribute(inp_data, baseline_impulsive, lb_to_idx[\"others\"])\n",
    "plot_layer_attribution_importance(others_attributions, \"Average importance for other birds call using DeepLift\")"
   ]
  },
  {
   "attachments": {},
   "cell_type": "markdown",
   "metadata": {},
   "source": [
    "## Kim et al. (2018) - TCAV"
   ]
  }
 ],
 "metadata": {
  "kernelspec": {
   "display_name": "panns-EXV_f7Qi",
   "language": "python",
   "name": "python3"
  },
  "language_info": {
   "codemirror_mode": {
    "name": "ipython",
    "version": 3
   },
   "file_extension": ".py",
   "mimetype": "text/x-python",
   "name": "python",
   "nbconvert_exporter": "python",
   "pygments_lexer": "ipython3",
   "version": "3.10.8"
  },
  "orig_nbformat": 4
 },
 "nbformat": 4,
 "nbformat_minor": 2
}
