{
  "cells": [
    {
      "cell_type": "code",
      "execution_count": null,
      "metadata": {
        "gather": {
          "logged": 1684231117920
        }
      },
      "outputs": [],
      "source": [
        "import sys\n",
        "import os\n",
        "sys.path.insert(1, os.path.join(sys.path[0], '..'))\n",
        "\n",
        "from utils.utilities import move_data_to_device\n",
        "\n",
        "from interpretability_utilities import plot_layer_attribution_importance, plot_frame_attributions\n",
        "from interpretability_utilities import load_workspace_file, plot_audio_attributions\n",
        "\n",
        "import pickle\n",
        "\n",
        "import numpy as np\n",
        "import librosa\n",
        "\n",
        "import librosa.display\n",
        "from scipy.io import wavfile\n",
        "from scipy.stats import ttest_ind\n",
        "\n",
        "import mlflow\n",
        "import torch\n",
        "\n",
        "import matplotlib.pyplot as plt\n",
        "import seaborn as sns\n",
        "\n",
        "from captum.attr import DeepLift, LayerDeepLift, LayerIntegratedGradients\n",
        "from captum.concept import Concept, TCAV\n",
        "\n",
        "from sklearn.cluster import KMeans, DBSCAN\n",
        "from sklearn.decomposition import PCA\n",
        "\n",
        "from captum.concept._utils.data_iterator import dataset_to_dataloader, CustomIterableDataset\n",
        "from captum.concept._utils.common import concepts_to_str"
      ]
    },
    {
      "attachments": {},
      "cell_type": "markdown",
      "metadata": {},
      "source": [
        "## Settings and Utils"
      ]
    },
    {
      "cell_type": "code",
      "execution_count": null,
      "metadata": {
        "gather": {
          "logged": 1684231128316
        }
      },
      "outputs": [],
      "source": [
        "# Adjust according to your experiment\n",
        "ref_fold = \"8\"\n",
        "run_id = \"\"\n",
        "tracking_server = \"\"\n",
        "workspace_file = \"\"\n",
        "dataset_dir = \"\"\n",
        "device = 'cuda' if torch.cuda.is_available() else 'cpu'\n",
        "\n",
        "mlflow.set_tracking_uri(f\"{tracking_server}:5000\")\n",
        "logged_model = mlflow.pytorch.load_model(f\"runs:/{run_id}/models\")\n",
        "logged_model = logged_model.eval()\n",
        "\n",
        "client = mlflow.MlflowClient()\n",
        "run = client.get_run(run_id)\n",
        "run_data = run.data\n",
        "tags = run_data.tags\n",
        "sr = int(tags[\"sample_rate\"])\n",
        "n_fft = int(tags[\"window_size\"])\n",
        "hop_length = int(tags[\"hop_size\"])\n",
        "window_size = int(tags[\"window_size\"])"
      ]
    },
    {
      "cell_type": "code",
      "execution_count": null,
      "metadata": {
        "gather": {
          "logged": 1684231133725
        }
      },
      "outputs": [],
      "source": [
        "inp_data, indexes, labels, _, lb_to_idx = load_workspace_file(workspace_file, ref_fold,\n",
        "                                dataset_dir, device)\n",
        "\n",
        "idx_to_label = {idx: label for label, idx in lb_to_idx.items()}\n",
        "target = [idx for label, idx in lb_to_idx.items() if label.startswith(\"albilora\")]\n",
        "\n",
        "inp_data.requires_grad_()"
      ]
    },
    {
      "cell_type": "code",
      "execution_count": null,
      "metadata": {
        "gather": {
          "logged": 1684231135406
        }
      },
      "outputs": [],
      "source": [
        "rng = np.random.default_rng(135)"
      ]
    },
    {
      "attachments": {},
      "cell_type": "markdown",
      "metadata": {},
      "source": [
        "Until this execution, only 'others' class was predicted, I'll take five random audios and define concepts from each one for TCAV"
      ]
    },
    {
      "cell_type": "code",
      "execution_count": null,
      "metadata": {
        "gather": {
          "logged": 1684231137275
        }
      },
      "outputs": [],
      "source": [
        "audios_ref_indices = rng.choice(inp_data.size()[0], replace=False, size=5)\n",
        "ref_audios = inp_data[audios_ref_indices]\n",
        "\n",
        "print(np.argmax(labels[audios_ref_indices], axis=1), idx_to_label)"
      ]
    },
    {
      "cell_type": "code",
      "execution_count": null,
      "metadata": {
        "gather": {
          "logged": 1684231138961
        }
      },
      "outputs": [],
      "source": [
        "def filter_audio_frequencies(audio, fmin, fmax, sr, n_fft, hop_size):\n",
        "    stft_mag, stft_phase = librosa.magphase(\n",
        "        librosa.stft(audio,\n",
        "            n_fft=n_fft, win_length=n_fft, hop_length=hop_size, center=True)\n",
        "    )\n",
        "\n",
        "    frequencies = librosa.fft_frequencies(sr=sr, n_fft=n_fft)\n",
        "\n",
        "    # filter undesired frequencies\n",
        "    less_than_min = frequencies < fmin\n",
        "    greather_than_max = frequencies > fmax\n",
        "\n",
        "    # Join the fmin and fmax undesired frequencies\n",
        "    undesired_frequencies = np.flatnonzero(np.logical_or(less_than_min, greather_than_max))\n",
        "\n",
        "    new_mag = stft_mag\n",
        "\n",
        "    for i in undesired_frequencies:\n",
        "        new_mag[i] = 0.0\n",
        "\n",
        "    filtered_audio = librosa.istft(new_mag * stft_phase, hop_length=hop_size,\n",
        "                                    win_length=n_fft, window=\"hann\", center=True,\n",
        "                                    length=len(audio))\n",
        "\n",
        "    return filtered_audio"
      ]
    },
    {
      "attachments": {},
      "cell_type": "markdown",
      "metadata": {},
      "source": [
        "References to use\n",
        "\n",
        "- 2kHz-4kHz frequency range of an audio\n",
        "- 4kHz-6kHz frequency range of an audio\n",
        "- 6kHz-8kHz frequency range of an audio\n",
        "- 8kHz-10kHz frequency range of an audio\n",
        "- Gaussian noise\n",
        "- Impulsive noise"
      ]
    },
    {
      "attachments": {},
      "cell_type": "markdown",
      "metadata": {},
      "source": [
        "## Shrikumar et al. (2017) - DeepLift - Rescale Rule"
      ]
    },
    {
      "cell_type": "code",
      "execution_count": null,
      "metadata": {
        "gather": {
          "logged": 1684231140708
        }
      },
      "outputs": [],
      "source": [
        "def set_reference(method, audio, **kwargs):\n",
        "    \"\"\"Modifies an audio for compare references\"\"\"\n",
        "    new_audio = audio.copy()\n",
        "    if method == \"gaussian\":\n",
        "        kwargs.setdefault('cycles', 1)\n",
        "        for i in range(kwargs[\"cycles\"]):\n",
        "            new_audio += rng.normal(size=len(new_audio)) - rng.normal(size=len(new_audio))\n",
        "\n",
        "    elif method == \"impulsive\":\n",
        "        noise = rng.normal(size=len(new_audio))\n",
        "        new_audio = np.where(noise > 0.85, new_audio + noise, new_audio)\n",
        "\n",
        "    else:\n",
        "        freqs = method.split('-')\n",
        "        assert len(freqs) == 2, \"Invalid values for min frequency and max frequency\"\n",
        "        fmin, fmax = float(freqs[0])*1000, float(freqs[1])*1000\n",
        "\n",
        "        new_audio = filter_audio_frequencies(new_audio, fmin, fmax, kwargs[\"sr\"],\n",
        "                                            kwargs[\"n_fft\"], kwargs[\"hop_size\"])\n",
        "\n",
        "    return new_audio"
      ]
    },
    {
      "cell_type": "code",
      "execution_count": null,
      "metadata": {
        "gather": {
          "logged": 1684231142654
        }
      },
      "outputs": [],
      "source": [
        "baseline_2k = []\n",
        "for audio in inp_data:\n",
        "    baseline_2k.append(set_reference(\"2-4\", audio.cpu().detach().numpy(), **{\"sr\": sr, \"n_fft\": n_fft, \"hop_size\": hop_length}))\n",
        "\n",
        "baseline_2k = move_data_to_device(np.array(baseline_2k), device)"
      ]
    },
    {
      "cell_type": "code",
      "execution_count": null,
      "metadata": {
        "gather": {
          "logged": 1684231144517
        }
      },
      "outputs": [],
      "source": [
        "baseline_4k = []\n",
        "for audio in inp_data:\n",
        "    baseline_4k.append(set_reference(\"4-6\", audio.cpu().detach().numpy(), **{\"sr\": sr, \"n_fft\": n_fft, \"hop_size\": hop_length}))\n",
        "\n",
        "baseline_4k = move_data_to_device(np.array(baseline_4k), device)"
      ]
    },
    {
      "cell_type": "code",
      "execution_count": null,
      "metadata": {
        "gather": {
          "logged": 1684231146246
        }
      },
      "outputs": [],
      "source": [
        "baseline_6k = []\n",
        "for audio in inp_data:\n",
        "    baseline_6k.append(set_reference(\"6-8\", audio.cpu().detach().numpy(), **{\"sr\": sr, \"n_fft\": n_fft, \"hop_size\": hop_length}))\n",
        "\n",
        "baseline_6k = move_data_to_device(np.array(baseline_6k), device)"
      ]
    },
    {
      "cell_type": "code",
      "execution_count": null,
      "metadata": {
        "gather": {
          "logged": 1684231148102
        }
      },
      "outputs": [],
      "source": [
        "baseline_8k = []\n",
        "for audio in inp_data:\n",
        "    baseline_8k.append(set_reference(\"8-10\", audio.cpu().detach().numpy(), **{\"sr\": sr, \"n_fft\": n_fft, \"hop_size\": hop_length}))\n",
        "\n",
        "baseline_8k = move_data_to_device(np.array(baseline_8k), device)"
      ]
    },
    {
      "cell_type": "code",
      "execution_count": null,
      "metadata": {
        "gather": {
          "logged": 1684231149815
        }
      },
      "outputs": [],
      "source": [
        "baseline_gaussian = []\n",
        "for audio in inp_data:\n",
        "    baseline_gaussian.append(set_reference(\"gaussian\", audio.cpu().detach().numpy(), **{\"sr\": sr, \"n_fft\": n_fft, \"hop_size\": hop_length}))\n",
        "\n",
        "baseline_gaussian = move_data_to_device(np.array(baseline_gaussian), device)"
      ]
    },
    {
      "cell_type": "code",
      "execution_count": null,
      "metadata": {
        "gather": {
          "logged": 1684231151570
        }
      },
      "outputs": [],
      "source": [
        "baseline_impulsive = []\n",
        "for audio in inp_data:\n",
        "    baseline_impulsive.append(set_reference(\"impulsive\", audio.cpu().detach().numpy(), **{\"sr\": sr, \"n_fft\": n_fft, \"hop_size\": hop_length}))\n",
        "\n",
        "baseline_impulsive = move_data_to_device(np.array(baseline_impulsive), device)"
      ]
    },
    {
      "attachments": {},
      "cell_type": "markdown",
      "metadata": {},
      "source": [
        "### Model attribution"
      ]
    },
    {
      "cell_type": "code",
      "execution_count": null,
      "metadata": {
        "gather": {
          "logged": 1684162497320
        }
      },
      "outputs": [],
      "source": [
        "dl = DeepLift(logged_model)"
      ]
    },
    {
      "cell_type": "code",
      "execution_count": null,
      "metadata": {
        "gather": {
          "logged": 1684162498622
        }
      },
      "outputs": [],
      "source": [
        "def model_importance(dl, inp_data, baseline, target, title=\"Average frames importance using DeepLift\"):\n",
        "    \"\"\"Computes the frames importance given a reference and the target classes\"\"\"\n",
        "\n",
        "    attributions = dl.attribute(inp_data, baseline, target=target)\n",
        "    plot_frame_attributions(attributions, title=title)\n",
        "    return attributions"
      ]
    },
    {
      "attachments": {},
      "cell_type": "markdown",
      "metadata": {},
      "source": [
        "#### Silent audio\n",
        "\n",
        "0 tensor"
      ]
    },
    {
      "attachments": {},
      "cell_type": "markdown",
      "metadata": {},
      "source": [
        "Compute attributions for S. albilora call and syllables"
      ]
    },
    {
      "cell_type": "code",
      "execution_count": null,
      "metadata": {
        "gather": {
          "logged": 1684162552520
        }
      },
      "outputs": [],
      "source": [
        "gen_attribution = dl.attribute(inp_data, target=np.argmax(labels, axis=1))"
      ]
    },
    {
      "cell_type": "code",
      "execution_count": null,
      "metadata": {
        "gather": {
          "logged": 1684162600893
        }
      },
      "outputs": [],
      "source": [
        "plot_frame_attributions(gen_attribution,\n",
        "        title=\"Atribuição média do modelo para cada frame do conjunto de validação usando DeepLift\")"
      ]
    },
    {
      "cell_type": "code",
      "execution_count": null,
      "metadata": {
        "gather": {
          "logged": 1684156289412
        },
        "jupyter": {
          "outputs_hidden": false,
          "source_hidden": false
        },
        "nteract": {
          "transient": {
            "deleting": false
          }
        }
      },
      "outputs": [],
      "source": [
        "fig, ax = plt.subplots(figsize=(10, 6))\n",
        "\n",
        "ax.bar(np.arange(gen_attribution.size()[1]), np.mean(gen_attribution.cpu().detach().numpy(), axis=0))\n",
        "\n",
        "ax.set_xlabel(\"Tempo [s]\")\n",
        "ax.set_ylabel(\"Atribuição\")\n",
        "\n",
        "ax.set_xticks(np.arange(0, gen_attribution.size()[1], int(sr/10)))\n",
        "ax.set_xticklabels(np.arange(0, 0.75, 0.10, dtype=np.float32))\n",
        "\n",
        "ax.set_title(\"Atribuição média do modelo para cada frame do conjunto de validação usando DeepLift\")\n",
        "\n",
        "fig.show()"
      ]
    },
    {
      "cell_type": "code",
      "execution_count": null,
      "metadata": {
        "gather": {
          "logged": 1684156290961
        },
        "jupyter": {
          "outputs_hidden": false,
          "source_hidden": false
        },
        "nteract": {
          "transient": {
            "deleting": false
          }
        }
      },
      "outputs": [],
      "source": [
        "del gen_attribution\n",
        "\n",
        "if device == 'cuda':\n",
        "        torch.cuda.empty_cache()"
      ]
    },
    {
      "attachments": {},
      "cell_type": "markdown",
      "metadata": {},
      "source": [
        "#### Frequency range and noise"
      ]
    },
    {
      "attachments": {},
      "cell_type": "markdown",
      "metadata": {},
      "source": [
        "2kHz-4kHz activity"
      ]
    },
    {
      "cell_type": "code",
      "execution_count": null,
      "metadata": {
        "gather": {
          "logged": 1684156401537
        }
      },
      "outputs": [],
      "source": [
        "activity_2kHz_4kHz_attributions = model_importance(dl, inp_data, baseline_2k,\n",
        "        np.argmax(labels, axis=1), \"Atribuição média- Atividades entre 2kHz-4kHz\")\n",
        "\n",
        "plot_audio_attributions(activity_2kHz_4kHz_attributions, \"Atribuição média- Atividades entre 2kHz-4kHz\")\n",
        "del activity_2kHz_4kHz_attributions\n",
        "\n",
        "if device == 'cuda':\n",
        "        torch.cuda.empty_cache()"
      ]
    },
    {
      "attachments": {},
      "cell_type": "markdown",
      "metadata": {},
      "source": [
        "4kHz-6kHz activity"
      ]
    },
    {
      "cell_type": "code",
      "execution_count": null,
      "metadata": {
        "gather": {
          "logged": 1684156515247
        }
      },
      "outputs": [],
      "source": [
        "activity_4kHz_6kHz_attributions = model_importance(dl, inp_data, baseline_4k,\n",
        "        np.argmax(labels, axis=1), \"Atribuição média- Atividades entre 4kHz-6kHz\")\n",
        "\n",
        "del activity_4kHz_6kHz_attributions\n",
        "\n",
        "if device == 'cuda':\n",
        "        torch.cuda.empty_cache()"
      ]
    },
    {
      "attachments": {},
      "cell_type": "markdown",
      "metadata": {},
      "source": [
        "6kHz-8kHz activity"
      ]
    },
    {
      "cell_type": "code",
      "execution_count": null,
      "metadata": {
        "gather": {
          "logged": 1684156627948
        }
      },
      "outputs": [],
      "source": [
        "activity_6kHz_8kHz_attributions = model_importance(dl, inp_data, baseline_6k,\n",
        "        np.argmax(labels, axis=1), \"Atribuição média- Atividades entre 6kHz-8kHz\")\n",
        "\n",
        "del activity_6kHz_8kHz_attributions\n",
        "\n",
        "if device == 'cuda':\n",
        "        torch.cuda.empty_cache()"
      ]
    },
    {
      "attachments": {},
      "cell_type": "markdown",
      "metadata": {},
      "source": [
        "8kHz-10kHz activity"
      ]
    },
    {
      "cell_type": "code",
      "execution_count": null,
      "metadata": {
        "gather": {
          "logged": 1684156740543
        }
      },
      "outputs": [],
      "source": [
        "activity_8kHz_10kHz_attributions = model_importance(dl, inp_data, baseline_8k,\n",
        "        np.argmax(labels, axis=1), \"Atribuição média- Atividades entre 8kHz-10kHz\")\n",
        "\n",
        "del activity_8kHz_10kHz_attributions\n",
        "\n",
        "if device == 'cuda':\n",
        "        torch.cuda.empty_cache()"
      ]
    },
    {
      "attachments": {},
      "cell_type": "markdown",
      "metadata": {},
      "source": [
        "Gaussian noise"
      ]
    },
    {
      "cell_type": "code",
      "execution_count": null,
      "metadata": {
        "gather": {
          "logged": 1684156853054
        }
      },
      "outputs": [],
      "source": [
        "gaussian_attributions = model_importance(dl, inp_data, baseline_gaussian,\n",
        "        np.argmax(labels, axis=1), \"Atribuição média- Atividades com ruído gaussiano\")\n",
        "\n",
        "del gaussian_attributions\n",
        "\n",
        "if device == 'cuda':\n",
        "        torch.cuda.empty_cache()"
      ]
    },
    {
      "attachments": {},
      "cell_type": "markdown",
      "metadata": {},
      "source": [
        "Impulsive noise"
      ]
    },
    {
      "cell_type": "code",
      "execution_count": null,
      "metadata": {
        "gather": {
          "logged": 1684156966104
        }
      },
      "outputs": [],
      "source": [
        "impulsive_attributions = model_importance(dl, inp_data, baseline_impulsive,\n",
        "        np.argmax(labels, axis=1), \"Atribuição média- Atividades com ruído impulsivo\")\n",
        "\n",
        "del impulsive_attributions\n",
        "\n",
        "if device == 'cuda':\n",
        "        torch.cuda.empty_cache()"
      ]
    },
    {
      "attachments": {},
      "cell_type": "markdown",
      "metadata": {},
      "source": [
        "### Block attribution"
      ]
    },
    {
      "attachments": {},
      "cell_type": "markdown",
      "metadata": {},
      "source": [
        "#### First block"
      ]
    },
    {
      "cell_type": "code",
      "execution_count": null,
      "metadata": {
        "gather": {
          "logged": 1684156967649
        }
      },
      "outputs": [],
      "source": [
        "dl_first_conv_block = LayerDeepLift(logged_model, logged_model.base.conv_block1)"
      ]
    },
    {
      "attachments": {},
      "cell_type": "markdown",
      "metadata": {},
      "source": [
        "##### Silent audio"
      ]
    },
    {
      "cell_type": "code",
      "execution_count": null,
      "metadata": {
        "gather": {
          "logged": 1684157012530
        }
      },
      "outputs": [],
      "source": [
        "dl_1st_block_attributions = dl_first_conv_block.attribute(inp_data, target=np.argmax(labels, axis=1))"
      ]
    },
    {
      "cell_type": "code",
      "execution_count": null,
      "metadata": {
        "gather": {
          "logged": 1684157017930
        }
      },
      "outputs": [],
      "source": [
        "plot_layer_attribution_importance(dl_1st_block_attributions,\n",
        "    \"1st block (silence) average frame importance using DeepLift\")"
      ]
    },
    {
      "cell_type": "code",
      "execution_count": null,
      "metadata": {
        "gather": {
          "logged": 1684157019264
        },
        "jupyter": {
          "outputs_hidden": false,
          "source_hidden": false
        },
        "nteract": {
          "transient": {
            "deleting": false
          }
        }
      },
      "outputs": [],
      "source": [
        "with open(\"data/dl_1st_block_attributions.pkl\", \"wb\") as f_out:\n",
        "        pickle.dump(dl_1st_block_attributions, f_out)\n",
        "\n",
        "del dl_1st_block_attributions\n",
        "\n",
        "if device == 'cuda':\n",
        "        torch.cuda.empty_cache()"
      ]
    },
    {
      "attachments": {},
      "cell_type": "markdown",
      "metadata": {},
      "source": [
        "##### Frequency range and noise"
      ]
    },
    {
      "cell_type": "markdown",
      "metadata": {},
      "source": [
        "2kHz-4kHz activity"
      ]
    },
    {
      "cell_type": "code",
      "execution_count": null,
      "metadata": {
        "gather": {
          "logged": 1684157065499
        }
      },
      "outputs": [],
      "source": [
        "dl_1st_block_2k_activity_attributions = dl_first_conv_block.attribute(inp_data,\n",
        "        baseline_2k, np.argmax(labels, axis=1))"
      ]
    },
    {
      "cell_type": "code",
      "execution_count": null,
      "metadata": {
        "gather": {
          "logged": 1684157067175
        },
        "jupyter": {
          "outputs_hidden": false,
          "source_hidden": false
        },
        "nteract": {
          "transient": {
            "deleting": false
          }
        }
      },
      "outputs": [],
      "source": [
        "plot_layer_attribution_importance(dl_1st_block_2k_activity_attributions,\n",
        "        \"1st block (2kHz-4kHz) average frame importance using DeepLift\")"
      ]
    },
    {
      "cell_type": "code",
      "execution_count": null,
      "metadata": {
        "gather": {
          "logged": 1684157068774
        },
        "jupyter": {
          "outputs_hidden": false,
          "source_hidden": false
        },
        "nteract": {
          "transient": {
            "deleting": false
          }
        }
      },
      "outputs": [],
      "source": [
        "with open(\"data/dl_1st_block_2k_activity_attributions.pkl\", \"wb\") as f_out:\n",
        "        pickle.dump(dl_1st_block_2k_activity_attributions, f_out)\n",
        "\n",
        "del dl_1st_block_2k_activity_attributions\n",
        "\n",
        "if device == 'cuda':\n",
        "        torch.cuda.empty_cache()"
      ]
    },
    {
      "cell_type": "markdown",
      "metadata": {},
      "source": [
        "4kHz-6kHz activity"
      ]
    },
    {
      "cell_type": "code",
      "execution_count": null,
      "metadata": {
        "gather": {
          "logged": 1684157114156
        }
      },
      "outputs": [],
      "source": [
        "dl_1st_block_4k_activity_attributions = dl_first_conv_block.attribute(inp_data,\n",
        "        baseline_4k, np.argmax(labels, axis=1))"
      ]
    },
    {
      "cell_type": "code",
      "execution_count": null,
      "metadata": {
        "gather": {
          "logged": 1684157115900
        }
      },
      "outputs": [],
      "source": [
        "plot_layer_attribution_importance(dl_1st_block_4k_activity_attributions,\n",
        "        \"1st block (4kHz-6kHz) average frame importance using DeepLift\")"
      ]
    },
    {
      "cell_type": "code",
      "execution_count": null,
      "metadata": {
        "gather": {
          "logged": 1684157117428
        },
        "jupyter": {
          "outputs_hidden": false,
          "source_hidden": false
        },
        "nteract": {
          "transient": {
            "deleting": false
          }
        }
      },
      "outputs": [],
      "source": [
        "with open(\"data/dl_1st_block_4k_activity_attributions.pkl\", \"wb\") as f_out:\n",
        "        pickle.dump(dl_1st_block_4k_activity_attributions, f_out)\n",
        "\n",
        "del dl_1st_block_4k_activity_attributions\n",
        "\n",
        "if device == 'cuda':\n",
        "        torch.cuda.empty_cache()"
      ]
    },
    {
      "cell_type": "markdown",
      "metadata": {},
      "source": [
        "6kHz-8kHz activity"
      ]
    },
    {
      "cell_type": "code",
      "execution_count": null,
      "metadata": {
        "gather": {
          "logged": 1684157163130
        }
      },
      "outputs": [],
      "source": [
        "dl_1st_block_6k_activity_attributions = dl_first_conv_block.attribute(inp_data,\n",
        "        baseline_6k, np.argmax(labels, axis=1))"
      ]
    },
    {
      "cell_type": "code",
      "execution_count": null,
      "metadata": {
        "gather": {
          "logged": 1684157164640
        }
      },
      "outputs": [],
      "source": [
        "plot_layer_attribution_importance(dl_1st_block_6k_activity_attributions,\n",
        "        \"1st block (6kHz-8kHz) average frame importance using DeepLift\")"
      ]
    },
    {
      "cell_type": "code",
      "execution_count": null,
      "metadata": {
        "gather": {
          "logged": 1684157166205
        },
        "jupyter": {
          "outputs_hidden": false,
          "source_hidden": false
        },
        "nteract": {
          "transient": {
            "deleting": false
          }
        }
      },
      "outputs": [],
      "source": [
        "with open(\"data/dl_1st_block_6k_activity_attributions.pkl\", \"wb\") as f_out:\n",
        "        pickle.dump(dl_1st_block_6k_activity_attributions, f_out)\n",
        "\n",
        "del dl_1st_block_6k_activity_attributions\n",
        "\n",
        "if device == 'cuda':\n",
        "        torch.cuda.empty_cache()"
      ]
    },
    {
      "cell_type": "markdown",
      "metadata": {},
      "source": [
        "8kHz-10kHz activity"
      ]
    },
    {
      "cell_type": "code",
      "execution_count": null,
      "metadata": {
        "gather": {
          "logged": 1684157211966
        }
      },
      "outputs": [],
      "source": [
        "dl_1st_block_8k_activity_attributions = dl_first_conv_block.attribute(inp_data,\n",
        "        baseline_8k, np.argmax(labels, axis=1))"
      ]
    },
    {
      "cell_type": "code",
      "execution_count": null,
      "metadata": {
        "gather": {
          "logged": 1684157213469
        }
      },
      "outputs": [],
      "source": [
        "plot_layer_attribution_importance(dl_1st_block_8k_activity_attributions,\n",
        "        \"1st block (8kHz-10kHz) average frame importance using DeepLift\")"
      ]
    },
    {
      "cell_type": "code",
      "execution_count": null,
      "metadata": {
        "gather": {
          "logged": 1684157215014
        },
        "jupyter": {
          "outputs_hidden": false,
          "source_hidden": false
        },
        "nteract": {
          "transient": {
            "deleting": false
          }
        }
      },
      "outputs": [],
      "source": [
        "with open(\"data/dl_1st_block_8k_activity_attributions.pkl\", \"wb\") as f_out:\n",
        "        pickle.dump(dl_1st_block_8k_activity_attributions, f_out)\n",
        "\n",
        "del dl_1st_block_8k_activity_attributions\n",
        "\n",
        "if device == 'cuda':\n",
        "        torch.cuda.empty_cache()"
      ]
    },
    {
      "cell_type": "markdown",
      "metadata": {},
      "source": [
        "Gaussian noise"
      ]
    },
    {
      "cell_type": "code",
      "execution_count": null,
      "metadata": {
        "gather": {
          "logged": 1684157260901
        }
      },
      "outputs": [],
      "source": [
        "dl_1st_block_gaussian_attributions = dl_first_conv_block.attribute(inp_data,\n",
        "        baseline_gaussian, np.argmax(labels, axis=1))"
      ]
    },
    {
      "cell_type": "code",
      "execution_count": null,
      "metadata": {
        "gather": {
          "logged": 1684157262774
        }
      },
      "outputs": [],
      "source": [
        "plot_layer_attribution_importance(dl_1st_block_gaussian_attributions,\n",
        "        \"1st block (gaussian noise) average frame importance using DeepLift\")"
      ]
    },
    {
      "cell_type": "code",
      "execution_count": null,
      "metadata": {
        "gather": {
          "logged": 1684157264132
        },
        "jupyter": {
          "outputs_hidden": false,
          "source_hidden": false
        },
        "nteract": {
          "transient": {
            "deleting": false
          }
        }
      },
      "outputs": [],
      "source": [
        "with open(\"data/dl_1st_block_gaussian_attributions.pkl\", \"wb\") as f_out:\n",
        "        pickle.dump(dl_1st_block_gaussian_attributions, f_out)\n",
        "\n",
        "del dl_1st_block_gaussian_attributions\n",
        "\n",
        "if device == 'cuda':\n",
        "        torch.cuda.empty_cache()"
      ]
    },
    {
      "cell_type": "markdown",
      "metadata": {},
      "source": [
        "Impulsive noise"
      ]
    },
    {
      "cell_type": "code",
      "execution_count": null,
      "metadata": {
        "gather": {
          "logged": 1684157310290
        }
      },
      "outputs": [],
      "source": [
        "dl_1st_block_impulsive_attributions = dl_first_conv_block.attribute(inp_data,\n",
        "        baseline_impulsive, np.argmax(labels, axis=1))"
      ]
    },
    {
      "cell_type": "code",
      "execution_count": null,
      "metadata": {
        "gather": {
          "logged": 1684157312164
        }
      },
      "outputs": [],
      "source": [
        "plot_layer_attribution_importance(dl_1st_block_impulsive_attributions,\n",
        "        \"1st block (impulsive noise) average frame importance using DeepLift\")"
      ]
    },
    {
      "cell_type": "code",
      "execution_count": null,
      "metadata": {
        "gather": {
          "logged": 1684157313534
        },
        "jupyter": {
          "outputs_hidden": false,
          "source_hidden": false
        },
        "nteract": {
          "transient": {
            "deleting": false
          }
        }
      },
      "outputs": [],
      "source": [
        "with open(\"data/dl_1st_block_impulsive_attributions.pkl\", \"wb\") as f_out:\n",
        "        pickle.dump(dl_1st_block_impulsive_attributions, f_out)\n",
        "\n",
        "del dl_1st_block_impulsive_attributions\n",
        "\n",
        "if device == 'cuda':\n",
        "        torch.cuda.empty_cache()"
      ]
    },
    {
      "attachments": {},
      "cell_type": "markdown",
      "metadata": {},
      "source": [
        "#### 2nd block"
      ]
    },
    {
      "cell_type": "code",
      "execution_count": null,
      "metadata": {
        "gather": {
          "logged": 1684157314884
        }
      },
      "outputs": [],
      "source": [
        "dl_second_conv_block = LayerDeepLift(logged_model, logged_model.base.conv_block2)"
      ]
    },
    {
      "cell_type": "markdown",
      "metadata": {},
      "source": [
        "##### Silent audio"
      ]
    },
    {
      "cell_type": "code",
      "execution_count": null,
      "metadata": {
        "gather": {
          "logged": 1684157353743
        }
      },
      "outputs": [],
      "source": [
        "dl_2nd_block_attributions = dl_second_conv_block.attribute(inp_data,\n",
        "        target=np.argmax(labels, axis=1))"
      ]
    },
    {
      "cell_type": "code",
      "execution_count": null,
      "metadata": {
        "gather": {
          "logged": 1684157355590
        }
      },
      "outputs": [],
      "source": [
        "plot_layer_attribution_importance(dl_2nd_block_attributions,\n",
        "        \"2nd block (silence) average frame importance using DeepLift\")"
      ]
    },
    {
      "cell_type": "code",
      "execution_count": null,
      "metadata": {
        "gather": {
          "logged": 1684157356960
        },
        "jupyter": {
          "outputs_hidden": false,
          "source_hidden": false
        },
        "nteract": {
          "transient": {
            "deleting": false
          }
        }
      },
      "outputs": [],
      "source": [
        "with open(\"data/dl_2nd_block_attributions.pkl\", \"wb\") as f_out:\n",
        "        pickle.dump(dl_2nd_block_attributions, f_out)\n",
        "\n",
        "del dl_2nd_block_attributions\n",
        "\n",
        "if device == 'cuda':\n",
        "        torch.cuda.empty_cache()"
      ]
    },
    {
      "attachments": {},
      "cell_type": "markdown",
      "metadata": {},
      "source": [
        "2kHz-4kHz activity"
      ]
    },
    {
      "cell_type": "code",
      "execution_count": null,
      "metadata": {
        "gather": {
          "logged": 1684157396881
        }
      },
      "outputs": [],
      "source": [
        "dl_2nd_block_2k_activity_attributions = dl_second_conv_block.attribute(inp_data,\n",
        "        baseline_2k, np.argmax(labels, axis=1))"
      ]
    },
    {
      "cell_type": "code",
      "execution_count": null,
      "metadata": {
        "gather": {
          "logged": 1684157398599
        }
      },
      "outputs": [],
      "source": [
        "plot_layer_attribution_importance(dl_2nd_block_2k_activity_attributions,\n",
        "        \"2nd block (2kHz-4kHz) average frame importance using DeepLift\")"
      ]
    },
    {
      "cell_type": "code",
      "execution_count": null,
      "metadata": {
        "gather": {
          "logged": 1684157399947
        },
        "jupyter": {
          "outputs_hidden": false,
          "source_hidden": false
        },
        "nteract": {
          "transient": {
            "deleting": false
          }
        }
      },
      "outputs": [],
      "source": [
        "with open(\"data/dl_2nd_block_2k_activity_attributions.pkl\", \"wb\") as f_out:\n",
        "        pickle.dump(dl_2nd_block_2k_activity_attributions, f_out)\n",
        "\n",
        "del dl_2nd_block_2k_activity_attributions\n",
        "\n",
        "if device == 'cuda':\n",
        "        torch.cuda.empty_cache()"
      ]
    },
    {
      "attachments": {},
      "cell_type": "markdown",
      "metadata": {},
      "source": [
        "4kHz-6kHz activity"
      ]
    },
    {
      "cell_type": "code",
      "execution_count": null,
      "metadata": {
        "gather": {
          "logged": 1684157440141
        }
      },
      "outputs": [],
      "source": [
        "dl_2nd_block_4k_activity_attributions = dl_second_conv_block.attribute(inp_data,\n",
        "        baseline_4k, np.argmax(labels, axis=1))"
      ]
    },
    {
      "cell_type": "code",
      "execution_count": null,
      "metadata": {
        "gather": {
          "logged": 1684157443121
        }
      },
      "outputs": [],
      "source": [
        "plot_layer_attribution_importance(dl_2nd_block_4k_activity_attributions,\n",
        "        \"2nd block (4kHz-6kHz) average frame importance using DeepLift\")"
      ]
    },
    {
      "cell_type": "code",
      "execution_count": null,
      "metadata": {
        "gather": {
          "logged": 1684157444442
        },
        "jupyter": {
          "outputs_hidden": false,
          "source_hidden": false
        },
        "nteract": {
          "transient": {
            "deleting": false
          }
        }
      },
      "outputs": [],
      "source": [
        "with open(\"data/dl_2nd_block_4k_activity_attributions.pkl\", \"wb\") as f_out:\n",
        "        pickle.dump(dl_2nd_block_4k_activity_attributions, f_out)\n",
        "\n",
        "del dl_2nd_block_4k_activity_attributions\n",
        "\n",
        "if device == 'cuda':\n",
        "        torch.cuda.empty_cache()"
      ]
    },
    {
      "attachments": {},
      "cell_type": "markdown",
      "metadata": {},
      "source": [
        "6kHz-8kHz activity"
      ]
    },
    {
      "cell_type": "code",
      "execution_count": null,
      "metadata": {
        "gather": {
          "logged": 1684157484331
        }
      },
      "outputs": [],
      "source": [
        "dl_2nd_block_6k_activity_attributions = dl_second_conv_block.attribute(inp_data,\n",
        "        baseline_6k, np.argmax(labels, axis=1))"
      ]
    },
    {
      "cell_type": "code",
      "execution_count": null,
      "metadata": {
        "gather": {
          "logged": 1684157486091
        }
      },
      "outputs": [],
      "source": [
        "plot_layer_attribution_importance(dl_2nd_block_6k_activity_attributions,\n",
        "        \"2nd block (6kHz-8kHz) average frame importance using DeepLift\")"
      ]
    },
    {
      "cell_type": "code",
      "execution_count": null,
      "metadata": {
        "gather": {
          "logged": 1684157487591
        },
        "jupyter": {
          "outputs_hidden": false,
          "source_hidden": false
        },
        "nteract": {
          "transient": {
            "deleting": false
          }
        }
      },
      "outputs": [],
      "source": [
        "with open(\"data/dl_2nd_block_6k_activity_attributions.pkl\", \"wb\") as f_out:\n",
        "        pickle.dump(dl_2nd_block_6k_activity_attributions, f_out)\n",
        "\n",
        "del dl_2nd_block_6k_activity_attributions\n",
        "\n",
        "if device == 'cuda':\n",
        "        torch.cuda.empty_cache()"
      ]
    },
    {
      "attachments": {},
      "cell_type": "markdown",
      "metadata": {},
      "source": [
        "8kHz-10kHz activity"
      ]
    },
    {
      "cell_type": "code",
      "execution_count": null,
      "metadata": {
        "gather": {
          "logged": 1684157527431
        }
      },
      "outputs": [],
      "source": [
        "dl_2nd_block_8k_activity_attributions = dl_second_conv_block.attribute(inp_data,\n",
        "        baseline_8k, np.argmax(labels, axis=1))"
      ]
    },
    {
      "cell_type": "code",
      "execution_count": null,
      "metadata": {
        "gather": {
          "logged": 1684157528933
        }
      },
      "outputs": [],
      "source": [
        "plot_layer_attribution_importance(dl_2nd_block_8k_activity_attributions,\n",
        "        \"2nd block (8kHz-10kHz) average frame importance using DeepLift\")"
      ]
    },
    {
      "cell_type": "code",
      "execution_count": null,
      "metadata": {
        "gather": {
          "logged": 1684157530503
        },
        "jupyter": {
          "outputs_hidden": false,
          "source_hidden": false
        },
        "nteract": {
          "transient": {
            "deleting": false
          }
        }
      },
      "outputs": [],
      "source": [
        "with open(\"data/dl_2nd_block_8k_activity_attributions.pkl\", \"wb\") as f_out:\n",
        "        pickle.dump(dl_2nd_block_8k_activity_attributions, f_out)\n",
        "\n",
        "del dl_2nd_block_8k_activity_attributions\n",
        "\n",
        "if device == 'cuda':\n",
        "        torch.cuda.empty_cache()"
      ]
    },
    {
      "attachments": {},
      "cell_type": "markdown",
      "metadata": {},
      "source": [
        "Gaussian noise"
      ]
    },
    {
      "cell_type": "code",
      "execution_count": null,
      "metadata": {
        "gather": {
          "logged": 1684157570285
        }
      },
      "outputs": [],
      "source": [
        "dl_2nd_block_gaussian_attributions = dl_second_conv_block.attribute(inp_data,\n",
        "        baseline_gaussian, np.argmax(labels, axis=1))"
      ]
    },
    {
      "cell_type": "code",
      "execution_count": null,
      "metadata": {
        "gather": {
          "logged": 1684157572183
        }
      },
      "outputs": [],
      "source": [
        "plot_layer_attribution_importance(dl_2nd_block_gaussian_attributions,\n",
        "        \"2nd block (gaussian noise) average frame importance using DeepLift\")"
      ]
    },
    {
      "cell_type": "code",
      "execution_count": null,
      "metadata": {
        "gather": {
          "logged": 1684157573570
        },
        "jupyter": {
          "outputs_hidden": false,
          "source_hidden": false
        },
        "nteract": {
          "transient": {
            "deleting": false
          }
        }
      },
      "outputs": [],
      "source": [
        "with open(\"data/dl_2nd_block_gaussian_attributions.pkl\", \"wb\") as f_out:\n",
        "        pickle.dump(dl_2nd_block_gaussian_attributions, f_out)\n",
        "\n",
        "del dl_2nd_block_gaussian_attributions\n",
        "\n",
        "if device == 'cuda':\n",
        "        torch.cuda.empty_cache()"
      ]
    },
    {
      "attachments": {},
      "cell_type": "markdown",
      "metadata": {},
      "source": [
        "Impulsive noise"
      ]
    },
    {
      "cell_type": "code",
      "execution_count": null,
      "metadata": {
        "gather": {
          "logged": 1684157613640
        }
      },
      "outputs": [],
      "source": [
        "dl_2nd_block_impulsive_attributions = dl_second_conv_block.attribute(inp_data,\n",
        "        baseline_impulsive, np.argmax(labels, axis=1))"
      ]
    },
    {
      "cell_type": "code",
      "execution_count": null,
      "metadata": {
        "gather": {
          "logged": 1684157615141
        }
      },
      "outputs": [],
      "source": [
        "plot_layer_attribution_importance(dl_2nd_block_impulsive_attributions,\n",
        "        \"2nd block (impulsive noise) average frame importance using DeepLift\")"
      ]
    },
    {
      "cell_type": "code",
      "execution_count": null,
      "metadata": {
        "gather": {
          "logged": 1684157616502
        },
        "jupyter": {
          "outputs_hidden": false,
          "source_hidden": false
        },
        "nteract": {
          "transient": {
            "deleting": false
          }
        }
      },
      "outputs": [],
      "source": [
        "with open(\"data/dl_2nd_block_impulsive_attributions.pkl\", \"wb\") as f_out:\n",
        "        pickle.dump(dl_2nd_block_impulsive_attributions, f_out)\n",
        "\n",
        "del dl_2nd_block_impulsive_attributions\n",
        "\n",
        "if device == 'cuda':\n",
        "        torch.cuda.empty_cache()"
      ]
    },
    {
      "attachments": {},
      "cell_type": "markdown",
      "metadata": {},
      "source": [
        "#### 5th block"
      ]
    },
    {
      "cell_type": "code",
      "execution_count": null,
      "metadata": {
        "gather": {
          "logged": 1684157618044
        }
      },
      "outputs": [],
      "source": [
        "dl_fifth_conv_block = LayerDeepLift(logged_model, logged_model.base.conv_block5)"
      ]
    },
    {
      "cell_type": "markdown",
      "metadata": {},
      "source": [
        "##### Silent audio"
      ]
    },
    {
      "cell_type": "code",
      "execution_count": null,
      "metadata": {
        "gather": {
          "logged": 1684157646573
        }
      },
      "outputs": [],
      "source": [
        "dl_5th_block_attributions = dl_fifth_conv_block.attribute(inp_data,\n",
        "        target=np.argmax(labels, axis=1))"
      ]
    },
    {
      "cell_type": "code",
      "execution_count": null,
      "metadata": {
        "gather": {
          "logged": 1684157648158
        }
      },
      "outputs": [],
      "source": [
        "plot_layer_attribution_importance(dl_5th_block_attributions,\n",
        "        \"5th block (silence) average frame importance using DeepLift\")"
      ]
    },
    {
      "cell_type": "code",
      "execution_count": null,
      "metadata": {
        "gather": {
          "logged": 1684157649565
        },
        "jupyter": {
          "outputs_hidden": false,
          "source_hidden": false
        },
        "nteract": {
          "transient": {
            "deleting": false
          }
        }
      },
      "outputs": [],
      "source": [
        "with open(\"data/dl_5th_block_attributions.pkl\", \"wb\") as f_out:\n",
        "        pickle.dump(dl_5th_block_attributions, f_out)\n",
        "\n",
        "del dl_5th_block_attributions\n",
        "\n",
        "if device == 'cuda':\n",
        "        torch.cuda.empty_cache()"
      ]
    },
    {
      "attachments": {},
      "cell_type": "markdown",
      "metadata": {},
      "source": [
        "2kHz-4kHz activity"
      ]
    },
    {
      "cell_type": "code",
      "execution_count": null,
      "metadata": {
        "gather": {
          "logged": 1684157679122
        }
      },
      "outputs": [],
      "source": [
        "dl_5th_block_2k_activity_attributions = dl_fifth_conv_block.attribute(inp_data,\n",
        "        baseline_2k, np.argmax(labels, axis=1))"
      ]
    },
    {
      "cell_type": "code",
      "execution_count": null,
      "metadata": {
        "gather": {
          "logged": 1684157680907
        }
      },
      "outputs": [],
      "source": [
        "plot_layer_attribution_importance(dl_5th_block_2k_activity_attributions,\n",
        "        \"5th block (2kHz-4kHz) average frame importance using DeepLift\")"
      ]
    },
    {
      "cell_type": "code",
      "execution_count": null,
      "metadata": {
        "gather": {
          "logged": 1684157682242
        },
        "jupyter": {
          "outputs_hidden": false,
          "source_hidden": false
        },
        "nteract": {
          "transient": {
            "deleting": false
          }
        }
      },
      "outputs": [],
      "source": [
        "with open(\"data/dl_5th_block_2k_activity_attributions.pkl\", \"wb\") as f_out:\n",
        "        pickle.dump(dl_5th_block_2k_activity_attributions, f_out)\n",
        "\n",
        "del dl_5th_block_2k_activity_attributions\n",
        "\n",
        "if device == 'cuda':\n",
        "        torch.cuda.empty_cache()"
      ]
    },
    {
      "attachments": {},
      "cell_type": "markdown",
      "metadata": {},
      "source": [
        "4kHz-6kHz activity"
      ]
    },
    {
      "cell_type": "code",
      "execution_count": null,
      "metadata": {
        "gather": {
          "logged": 1684157712644
        }
      },
      "outputs": [],
      "source": [
        "dl_5th_block_4k_activity_attributions = dl_fifth_conv_block.attribute(inp_data,\n",
        "        baseline_4k, np.argmax(labels, axis=1))"
      ]
    },
    {
      "cell_type": "code",
      "execution_count": null,
      "metadata": {
        "gather": {
          "logged": 1684157714719
        }
      },
      "outputs": [],
      "source": [
        "plot_layer_attribution_importance(dl_5th_block_4k_activity_attributions,\n",
        "        \"5th block (4kHz-6kHz) average frame importance using DeepLift\")"
      ]
    },
    {
      "cell_type": "code",
      "execution_count": null,
      "metadata": {
        "gather": {
          "logged": 1684157716346
        },
        "jupyter": {
          "outputs_hidden": false,
          "source_hidden": false
        },
        "nteract": {
          "transient": {
            "deleting": false
          }
        }
      },
      "outputs": [],
      "source": [
        "with open(\"data/dl_5th_block_4k_activity_attributions.pkl\", \"wb\") as f_out:\n",
        "        pickle.dump(dl_5th_block_4k_activity_attributions, f_out)\n",
        "\n",
        "del dl_5th_block_4k_activity_attributions\n",
        "\n",
        "if device == 'cuda':\n",
        "        torch.cuda.empty_cache()"
      ]
    },
    {
      "attachments": {},
      "cell_type": "markdown",
      "metadata": {},
      "source": [
        "6kHz-8kHz activity"
      ]
    },
    {
      "cell_type": "code",
      "execution_count": null,
      "metadata": {
        "gather": {
          "logged": 1684157744684
        }
      },
      "outputs": [],
      "source": [
        "dl_5th_block_6k_activity_attributions = dl_fifth_conv_block.attribute(inp_data,\n",
        "        baseline_6k, np.argmax(labels, axis=1))"
      ]
    },
    {
      "cell_type": "code",
      "execution_count": null,
      "metadata": {
        "gather": {
          "logged": 1684157746606
        }
      },
      "outputs": [],
      "source": [
        "plot_layer_attribution_importance(dl_5th_block_6k_activity_attributions,\n",
        "        \"5th block (6kHz-8kHz) average frame importance using DeepLift\")"
      ]
    },
    {
      "cell_type": "code",
      "execution_count": null,
      "metadata": {
        "gather": {
          "logged": 1684157748501
        },
        "jupyter": {
          "outputs_hidden": false,
          "source_hidden": false
        },
        "nteract": {
          "transient": {
            "deleting": false
          }
        }
      },
      "outputs": [],
      "source": [
        "with open(\"data/dl_5th_block_6k_activity_attributions.pkl\", \"wb\") as f_out:\n",
        "        pickle.dump(dl_5th_block_6k_activity_attributions, f_out)\n",
        "\n",
        "del dl_5th_block_6k_activity_attributions\n",
        "\n",
        "if device == 'cuda':\n",
        "        torch.cuda.empty_cache()"
      ]
    },
    {
      "attachments": {},
      "cell_type": "markdown",
      "metadata": {},
      "source": [
        "8kHz-10kHz activity"
      ]
    },
    {
      "cell_type": "code",
      "execution_count": null,
      "metadata": {
        "gather": {
          "logged": 1684157777364
        }
      },
      "outputs": [],
      "source": [
        "dl_5th_block_8k_activity_attributions = dl_fifth_conv_block.attribute(inp_data,\n",
        "        baseline_8k, np.argmax(labels, axis=1))"
      ]
    },
    {
      "cell_type": "code",
      "execution_count": null,
      "metadata": {
        "gather": {
          "logged": 1684157779534
        }
      },
      "outputs": [],
      "source": [
        "plot_layer_attribution_importance(dl_5th_block_8k_activity_attributions,\n",
        "        \"5th block (8kHz-10kHz) average frame importance using DeepLift\")"
      ]
    },
    {
      "cell_type": "code",
      "execution_count": null,
      "metadata": {
        "gather": {
          "logged": 1684157781027
        },
        "jupyter": {
          "outputs_hidden": false,
          "source_hidden": false
        },
        "nteract": {
          "transient": {
            "deleting": false
          }
        }
      },
      "outputs": [],
      "source": [
        "with open(\"data/dl_5th_block_8k_activity_attributions.pkl\", \"wb\") as f_out:\n",
        "        pickle.dump(dl_5th_block_8k_activity_attributions, f_out)\n",
        "\n",
        "del dl_5th_block_8k_activity_attributions\n",
        "\n",
        "if device == 'cuda':\n",
        "        torch.cuda.empty_cache()"
      ]
    },
    {
      "attachments": {},
      "cell_type": "markdown",
      "metadata": {},
      "source": [
        "Gaussian noise"
      ]
    },
    {
      "cell_type": "code",
      "execution_count": null,
      "metadata": {
        "gather": {
          "logged": 1684157809131
        }
      },
      "outputs": [],
      "source": [
        "dl_5th_block_gaussian_attributions = dl_fifth_conv_block.attribute(inp_data,\n",
        "        baseline_gaussian, np.argmax(labels, axis=1))"
      ]
    },
    {
      "cell_type": "code",
      "execution_count": null,
      "metadata": {
        "gather": {
          "logged": 1684157812978
        }
      },
      "outputs": [],
      "source": [
        "plot_layer_attribution_importance(dl_5th_block_gaussian_attributions,\n",
        "        \"5th block (gaussian noise) average frame importance using DeepLift\")"
      ]
    },
    {
      "cell_type": "code",
      "execution_count": null,
      "metadata": {
        "gather": {
          "logged": 1684157814394
        },
        "jupyter": {
          "outputs_hidden": false,
          "source_hidden": false
        },
        "nteract": {
          "transient": {
            "deleting": false
          }
        }
      },
      "outputs": [],
      "source": [
        "with open(\"data/dl_5th_block_gaussian_attributions.pkl\", \"wb\") as f_out:\n",
        "        pickle.dump(dl_5th_block_gaussian_attributions, f_out)\n",
        "\n",
        "del dl_5th_block_gaussian_attributions\n",
        "\n",
        "if device == 'cuda':\n",
        "        torch.cuda.empty_cache()"
      ]
    },
    {
      "attachments": {},
      "cell_type": "markdown",
      "metadata": {},
      "source": [
        "Impulsive noise"
      ]
    },
    {
      "cell_type": "code",
      "execution_count": null,
      "metadata": {
        "gather": {
          "logged": 1684157843011
        }
      },
      "outputs": [],
      "source": [
        "dl_5th_block_impulsive_attributions = dl_fifth_conv_block.attribute(inp_data,\n",
        "        baseline_impulsive, np.argmax(labels, axis=1))"
      ]
    },
    {
      "cell_type": "code",
      "execution_count": null,
      "metadata": {
        "gather": {
          "logged": 1684157844714
        }
      },
      "outputs": [],
      "source": [
        "plot_layer_attribution_importance(dl_5th_block_impulsive_attributions,\n",
        "        \"5th block (impulsive noise) average frame importance using DeepLift\")"
      ]
    },
    {
      "cell_type": "code",
      "execution_count": null,
      "metadata": {
        "gather": {
          "logged": 1684157846322
        },
        "jupyter": {
          "outputs_hidden": false,
          "source_hidden": false
        },
        "nteract": {
          "transient": {
            "deleting": false
          }
        }
      },
      "outputs": [],
      "source": [
        "with open(\"data/dl_5th_block_impulsive_attributions.pkl\", \"wb\") as f_out:\n",
        "        pickle.dump(dl_5th_block_impulsive_attributions, f_out)\n",
        "\n",
        "del dl_5th_block_impulsive_attributions\n",
        "\n",
        "if device == 'cuda':\n",
        "        torch.cuda.empty_cache()"
      ]
    },
    {
      "attachments": {},
      "cell_type": "markdown",
      "metadata": {},
      "source": [
        "## Kim et al. (2018) - TCAV"
      ]
    },
    {
      "attachments": {},
      "cell_type": "markdown",
      "metadata": {},
      "source": [
        "For this method we obtain a dictionary with the attributions for each concept. I will not split for type of audio. See https://captum.ai/api/concept.html"
      ]
    },
    {
      "cell_type": "code",
      "execution_count": null,
      "metadata": {
        "gather": {
          "logged": 1684179639719
        }
      },
      "outputs": [],
      "source": [
        "layers = [\"base.conv_block1\", \"base.conv_block2\", \"base.conv_block5\"]\n",
        "audio_tcav = TCAV(model=logged_model, layers=layers,\n",
        "                layer_attr_method = LayerIntegratedGradients(\n",
        "                    logged_model, None, multiply_by_inputs=False\n",
        "                ))"
      ]
    },
    {
      "attachments": {},
      "cell_type": "markdown",
      "metadata": {},
      "source": [
        "Auxiliar method/function to define how concepts are created and assembled"
      ]
    },
    {
      "cell_type": "code",
      "execution_count": null,
      "metadata": {
        "gather": {
          "logged": 1684179642861
        }
      },
      "outputs": [],
      "source": [
        "def create_concept(name, audios, ids, concepts_path, force_save=False, **kwargs):\n",
        "    saved = True\n",
        "    \n",
        "    if name == \"gaussian\":\n",
        "        kwargs.setdefault('cycles', 1)\n",
        "\n",
        "        save_path = os.path.join(concepts_path, \"gaussian_noise\")\n",
        "        if force_save or not(os.path.exists(save_path)):\n",
        "            os.makedirs(save_path)\n",
        "\n",
        "            for id, audio in zip(ids, audios):\n",
        "                new_audio = audio.copy()\n",
        "                for _ in range(kwargs[\"cycles\"]):\n",
        "                    new_audio += rng.normal(size=len(audio)) - rng.normal(size=len(audio))\n",
        "\n",
        "                wavfile.write(os.path.join(save_path, f\"fold_{ref_fold}_ind{id}.wav\"),\n",
        "                                            kwargs[\"sr\"], new_audio)\n",
        "                \n",
        "        else:\n",
        "            saved = False\n",
        "            \n",
        "\n",
        "    elif name == \"impulsive\":\n",
        "\n",
        "        save_path = os.path.join(concepts_path, \"impulsive_noise\")\n",
        "        if force_save or not(os.path.exists(save_path)):\n",
        "            os.makedirs(save_path)\n",
        "\n",
        "            for id, audio in zip(ids, audios):\n",
        "                new_audio = audio.copy()\n",
        "                noise = rng.normal(size=len(audio))\n",
        "                new_audio = np.where(noise > 0.85, audio + noise, new_audio)\n",
        "\n",
        "                wavfile.write(os.path.join(save_path, f\"fold_{ref_fold}_ind{id}.wav\"),\n",
        "                                            kwargs[\"sr\"], new_audio)\n",
        "\n",
        "        else:\n",
        "            saved = False\n",
        "\n",
        "    else:\n",
        "        freqs = name.split('-')\n",
        "        assert len(freqs) == 2, \"Invalid values for min frequency and max frequency\"\n",
        "        fmin, fmax = float(freqs[0])*1000, float(freqs[1])*1000\n",
        "\n",
        "        save_path = os.path.join(concepts_path, f\"{fmin}_{fmax}Hz\")\n",
        "        \n",
        "        if force_save or not(os.path.exists(save_path)):\n",
        "            os.makedirs(save_path)\n",
        "\n",
        "            for id, audio in zip(ids, audios):\n",
        "                new_audio = filter_audio_frequencies(audio, fmin, fmax, kwargs[\"sr\"],\n",
        "                                                    kwargs[\"n_fft\"], kwargs[\"hop_size\"])\n",
        "\n",
        "                wavfile.write(os.path.join(save_path, f\"fold_{ref_fold}_ind{id}.wav\"),\n",
        "                                        kwargs[\"sr\"], new_audio)\n",
        "                \n",
        "        else:\n",
        "            saved = False\n",
        "\n",
        "    if not(saved):\n",
        "        print(f\"Method called without saving concetps. Check force_save parameter: {force_save}\",\n",
        "                f\" or concepts_path parameter for {name}: {save_path} passed.\")"
      ]
    },
    {
      "cell_type": "code",
      "execution_count": null,
      "metadata": {
        "gather": {
          "logged": 1684179658003
        }
      },
      "outputs": [],
      "source": [
        "# See https://github.com/pytorch/captum/blob/master/tutorials/TCAV_Image.ipynb\n",
        "def get_tensor_from_filename(filename):\n",
        "    audio, _ = librosa.load(filename, sr=None)\n",
        "    return audio\n",
        "\n",
        "def assemble_concept(name, id, concepts_path=\"data/tcav/concepts/\"):\n",
        "    frequencies = name.split(\"-\")\n",
        "    if len(frequencies) == 2:\n",
        "        name = f\"{float(frequencies[0])*1000}_{float(frequencies[1])*1000}Hz\"\n",
        "    else:\n",
        "        name = f\"{name}_noise\"\n",
        "\n",
        "    concept_path = f\"{os.path.join(concepts_path, name)}{os.sep}\"\n",
        "    dataset = CustomIterableDataset(get_tensor_from_filename, concept_path)\n",
        "    concept_iter = dataset_to_dataloader(dataset)\n",
        "\n",
        "    return Concept(id=id, name=name, data_iter=concept_iter)"
      ]
    },
    {
      "attachments": {},
      "cell_type": "markdown",
      "metadata": {},
      "source": [
        "Preprocessing"
      ]
    },
    {
      "cell_type": "code",
      "execution_count": null,
      "metadata": {
        "gather": {
          "logged": 1684179665034
        }
      },
      "outputs": [],
      "source": [
        "concepts_path = os.path.normpath(\"data/tcav/concepts\")"
      ]
    },
    {
      "cell_type": "code",
      "execution_count": null,
      "metadata": {
        "gather": {
          "logged": 1684179668722
        }
      },
      "outputs": [],
      "source": [
        "kwargs = {\"sr\": sr, \"n_fft\": n_fft, \"hop_size\": hop_length}\n",
        "\n",
        "[create_concept(f\"{i}-{i+2}\", ref_audios, int(i/2-1), concepts_path) for i in range(2, 10, 2)]\n",
        "\n",
        "create_concept(\"gaussian\", ref_audios, 4, concepts_path, **kwargs)\n",
        "\n",
        "create_concept(\"impulsive\", ref_audios, 5, concepts_path, **kwargs)"
      ]
    },
    {
      "cell_type": "code",
      "execution_count": null,
      "metadata": {
        "gather": {
          "logged": 1684179694148
        }
      },
      "outputs": [],
      "source": [
        "frequency_concepts = [assemble_concept(f\"{i}-{i+2}\", int(i/2-1))\n",
        "                    for i in range(2, 10, 2)]\n",
        "                    \n",
        "noise_concepts = [assemble_concept(\"gaussian\", 4), assemble_concept(\"impulsive\", 5)]"
      ]
    },
    {
      "cell_type": "code",
      "execution_count": null,
      "metadata": {
        "gather": {
          "logged": 1684179707892
        }
      },
      "outputs": [],
      "source": [
        "experimental_set_rand_1 = [[frequency_concepts[0], noise_concepts[0]],\n",
        "                        [frequency_concepts[0], noise_concepts[1]]]\n",
        "\n",
        "experimental_set_rand_2 = [[frequency_concepts[1], noise_concepts[0]],\n",
        "                        [frequency_concepts[1], noise_concepts[1]]]\n",
        "\n",
        "experimental_set_rand_3 = [[frequency_concepts[2], noise_concepts[0]],\n",
        "                        [frequency_concepts[2], noise_concepts[1]]]\n",
        "\n",
        "experimental_set_rand_4 = [[frequency_concepts[3], noise_concepts[0]],\n",
        "                        [frequency_concepts[3], noise_concepts[1]]]"
      ]
    },
    {
      "attachments": {},
      "cell_type": "markdown",
      "metadata": {},
      "source": [
        "Visualize TCAV scores"
      ]
    },
    {
      "cell_type": "code",
      "execution_count": null,
      "metadata": {
        "gather": {
          "logged": 1684179715101
        }
      },
      "outputs": [],
      "source": [
        "# See https://github.com/pytorch/captum/blob/master/tutorials/TCAV_Image.ipynb\n",
        "def format_float(f):\n",
        "    return float('{:.3f}'.format(f) if abs(f) >= 0.0005 else '{:.3e}'.format(f))\n",
        "\n",
        "def plot_tcav_scores(experimental_sets, tcav_scores):\n",
        "    _, ax = plt.subplots(1, len(experimental_sets), figsize = (25, 7))\n",
        "\n",
        "    barWidth = 1 / (len(experimental_sets[0]) + 1)\n",
        "\n",
        "    for idx_es, concepts in enumerate(experimental_sets):\n",
        "\n",
        "        concepts = experimental_sets[idx_es]\n",
        "        concepts_key = concepts_to_str(concepts)\n",
        "\n",
        "        pos = [np.arange(len(layers))]\n",
        "        for i in range(1, len(concepts)):\n",
        "            pos.append([(x + barWidth) for x in pos[i-1]])\n",
        "        _ax = (ax[idx_es] if len(experimental_sets) > 1 else ax)\n",
        "        for i in range(len(concepts)):\n",
        "            val = [format_float(scores['sign_count'][i]) for layer, scores in tcav_scores[concepts_key].items()]\n",
        "            _ax.bar(pos[i], val, width=barWidth, edgecolor='white', label=concepts[i].name)\n",
        "\n",
        "        # Add xticks on the middle of the group bars\n",
        "        _ax.set_xlabel('Experimento {}'.format(str(idx_es+1)), fontweight='bold', fontsize=16)\n",
        "        _ax.set_xticks([r + 0.3 * barWidth for r in range(len(layers))])\n",
        "        _ax.set_xticklabels(layers, fontsize=16)\n",
        "\n",
        "        # Create legend & Show graphic\n",
        "        _ax.legend(fontsize=16, loc=\"lower right\")\n",
        "\n",
        "    plt.show()"
      ]
    },
    {
      "attachments": {},
      "cell_type": "markdown",
      "metadata": {},
      "source": [
        "### 2kHz-4kHz experiment"
      ]
    },
    {
      "cell_type": "code",
      "execution_count": null,
      "metadata": {
        "gather": {
          "logged": 1684158216317
        }
      },
      "outputs": [],
      "source": [
        "tcav_scores_2k = audio_tcav.interpret(inputs=inp_data,\n",
        "                                    experimental_sets=experimental_set_rand_1,\n",
        "                                    target=np.argmax(labels, axis=1),\n",
        "                                    n_steps=5)"
      ]
    },
    {
      "cell_type": "code",
      "execution_count": null,
      "metadata": {
        "gather": {
          "logged": 1684158218168
        }
      },
      "outputs": [],
      "source": [
        "plot_tcav_scores(experimental_set_rand_1, tcav_scores_2k)"
      ]
    },
    {
      "attachments": {},
      "cell_type": "markdown",
      "metadata": {},
      "source": [
        "### 4kHz-6kHz experiment"
      ]
    },
    {
      "cell_type": "code",
      "execution_count": null,
      "metadata": {
        "gather": {
          "logged": 1684158560376
        }
      },
      "outputs": [],
      "source": [
        "tcav_scores_4k = audio_tcav.interpret(inputs=inp_data,\n",
        "                                    experimental_sets=experimental_set_rand_2,\n",
        "                                    target=np.argmax(labels, axis=1),\n",
        "                                    n_steps=5)"
      ]
    },
    {
      "cell_type": "code",
      "execution_count": null,
      "metadata": {
        "gather": {
          "logged": 1684158562268
        }
      },
      "outputs": [],
      "source": [
        "plot_tcav_scores(experimental_set_rand_2, tcav_scores_4k)"
      ]
    },
    {
      "attachments": {},
      "cell_type": "markdown",
      "metadata": {},
      "source": [
        "### 6kHz-8kHz experiment"
      ]
    },
    {
      "cell_type": "code",
      "execution_count": null,
      "metadata": {
        "gather": {
          "logged": 1684158906058
        }
      },
      "outputs": [],
      "source": [
        "tcav_scores_6k = audio_tcav.interpret(inputs=inp_data,\n",
        "                                    experimental_sets=experimental_set_rand_3,\n",
        "                                    target=np.argmax(labels, axis=1),\n",
        "                                    n_steps=5)"
      ]
    },
    {
      "cell_type": "code",
      "execution_count": null,
      "metadata": {
        "gather": {
          "logged": 1684158907804
        }
      },
      "outputs": [],
      "source": [
        "plot_tcav_scores(experimental_set_rand_3, tcav_scores_6k)"
      ]
    },
    {
      "attachments": {},
      "cell_type": "markdown",
      "metadata": {},
      "source": [
        "### 8kHz-10kHz experiment"
      ]
    },
    {
      "cell_type": "code",
      "execution_count": null,
      "metadata": {
        "gather": {
          "logged": 1684159248911
        }
      },
      "outputs": [],
      "source": [
        "tcav_scores_8k = audio_tcav.interpret(inputs=inp_data,\n",
        "                                    experimental_sets=experimental_set_rand_4,\n",
        "                                    target=target[0],\n",
        "                                    n_steps=5)"
      ]
    },
    {
      "cell_type": "code",
      "execution_count": null,
      "metadata": {
        "gather": {
          "logged": 1684159250955
        }
      },
      "outputs": [],
      "source": [
        "plot_tcav_scores(experimental_set_rand_4, tcav_scores_8k)"
      ]
    },
    {
      "attachments": {},
      "cell_type": "markdown",
      "metadata": {},
      "source": [
        "### Statistical Significance"
      ]
    },
    {
      "cell_type": "code",
      "execution_count": null,
      "metadata": {
        "gather": {
          "logged": 1684179749896
        },
        "jupyter": {
          "outputs_hidden": false,
          "source_hidden": false
        },
        "nteract": {
          "transient": {
            "deleting": false
          }
        }
      },
      "outputs": [],
      "source": [
        "experimental_sets = [[frequency_concepts[i], frequency_concepts[j]]\n",
        "                    for i in range(len(frequency_concepts))\n",
        "                    for j in range(len(frequency_concepts))\n",
        "                    if i != j]\n",
        "\n",
        "experimental_sets.extend([[frequency_concept, noise_concept]\n",
        "                    for frequency_concept in frequency_concepts\n",
        "                    for noise_concept in noise_concepts])\n",
        "\n",
        "experimental_sets"
      ]
    },
    {
      "cell_type": "code",
      "execution_count": null,
      "metadata": {
        "gather": {
          "logged": 1684179760482
        }
      },
      "outputs": [],
      "source": [
        "def assemble_scores(scores, experimental_sets, idx, score_layer, score_type):\n",
        "    score_list = []\n",
        "    for concepts in experimental_sets:\n",
        "        score_list.append(scores[\"-\".join([str(c.id) for c in concepts])][score_layer][score_type][idx])\n",
        "        \n",
        "    return score_list"
      ]
    },
    {
      "cell_type": "code",
      "execution_count": null,
      "metadata": {
        "gather": {
          "logged": 1684179763540
        },
        "jupyter": {
          "outputs_hidden": false,
          "source_hidden": false
        },
        "nteract": {
          "transient": {
            "deleting": false
          }
        }
      },
      "outputs": [],
      "source": [
        "def get_pval(scores, experimental_sets, score_layer, score_type, alpha=0.05, print_ret=False):\n",
        "    \n",
        "    P1 = assemble_scores(scores, experimental_sets, 0, score_layer, score_type)\n",
        "    P2 = assemble_scores(scores, experimental_sets, 1, score_layer, score_type)\n",
        "    \n",
        "    if print_ret:\n",
        "        print('P1[mean, std]: ', format_float(np.mean(P1)), format_float(np.std(P1)))\n",
        "        print('P2[mean, std]: ', format_float(np.mean(P2)), format_float(np.std(P2)))\n",
        "\n",
        "    _, pval = ttest_ind(P1, P2)\n",
        "\n",
        "    if print_ret:\n",
        "        print(\"p-values:\", format_float(pval))\n",
        "\n",
        "    if pval < alpha:    # alpha value is 0.05 or 5%\n",
        "        relation = \"Disjoint\"\n",
        "        if print_ret:\n",
        "            print(\"Disjoint\")\n",
        "    else:\n",
        "        relation = \"Overlap\"\n",
        "        if print_ret:\n",
        "            print(\"Overlap\")\n",
        "        \n",
        "    return P1, P2, format_float(pval), relation"
      ]
    },
    {
      "cell_type": "code",
      "execution_count": null,
      "metadata": {
        "gather": {
          "logged": 1684180137386
        },
        "jupyter": {
          "outputs_hidden": false,
          "source_hidden": false
        },
        "nteract": {
          "transient": {
            "deleting": false
          }
        }
      },
      "outputs": [],
      "source": [
        "def show_boxplots(layer, experimental_sets, scores, n=3, n_plots=2, other_name=\"noise\", metric='sign_count'):\n",
        "\n",
        "    # readequar essa função para mostrar bloxplots de diferentes\n",
        "    # referências\n",
        "    def format_label_text(experimental_sets):\n",
        "        concept_id_list = [exp.name if i == 0 else \\\n",
        "                             other_name for i, exp in enumerate(experimental_sets[0])]\n",
        "        return concept_id_list\n",
        "\n",
        "    fig, ax = plt.subplots(n_plots, 1, figsize = (25, 7 * n_plots))\n",
        "    fs = 18\n",
        "    for i in range(n_plots):\n",
        "        esl = experimental_sets[i * n : (i+1) * n]\n",
        "        P1, P2, pval, relation = get_pval(scores, esl, layer, metric)\n",
        "\n",
        "        ax[i].set_ylim([0, 1])\n",
        "        ax[i].set_title(layer + \"-\" + metric + \" (pval=\" + str(pval) + \" - \" + relation + \")\", fontsize=fs)\n",
        "        ax[i].boxplot([P1, P2], showfliers=True)\n",
        "\n",
        "        ax[i].set_xticklabels(format_label_text(esl), fontsize=fs)\n",
        "\n",
        "    plt.show()\n"
      ]
    },
    {
      "cell_type": "code",
      "execution_count": null,
      "metadata": {
        "gather": {
          "logged": 1684179987215
        },
        "jupyter": {
          "outputs_hidden": false,
          "source_hidden": false
        },
        "nteract": {
          "transient": {
            "deleting": false
          }
        }
      },
      "outputs": [],
      "source": [
        "scores = audio_tcav.interpret(inp_data, experimental_sets,\n",
        "        np.argmax(labels, axis=1), n_steps=5)"
      ]
    },
    {
      "cell_type": "markdown",
      "metadata": {
        "nteract": {
          "transient": {
            "deleting": false
          }
        }
      },
      "source": [
        "#### Frequency range comparison"
      ]
    },
    {
      "cell_type": "markdown",
      "metadata": {
        "nteract": {
          "transient": {
            "deleting": false
          }
        }
      },
      "source": [
        "First block"
      ]
    },
    {
      "cell_type": "code",
      "execution_count": null,
      "metadata": {
        "gather": {
          "logged": 1684180143116
        },
        "jupyter": {
          "outputs_hidden": false,
          "source_hidden": false
        },
        "nteract": {
          "transient": {
            "deleting": false
          }
        }
      },
      "outputs": [],
      "source": [
        "show_boxplots(layers[0], experimental_sets, scores, n_plots=4, other_name=\"other Frequencies\")"
      ]
    },
    {
      "cell_type": "markdown",
      "metadata": {
        "nteract": {
          "transient": {
            "deleting": false
          }
        }
      },
      "source": [
        "Second block"
      ]
    },
    {
      "cell_type": "code",
      "execution_count": null,
      "metadata": {
        "gather": {
          "logged": 1684180187394
        },
        "jupyter": {
          "outputs_hidden": false,
          "source_hidden": false
        },
        "nteract": {
          "transient": {
            "deleting": false
          }
        }
      },
      "outputs": [],
      "source": [
        "show_boxplots(layers[1], experimental_sets, scores, n_plots=4, other_name=\"other Frequencies\")"
      ]
    },
    {
      "cell_type": "markdown",
      "metadata": {
        "nteract": {
          "transient": {
            "deleting": false
          }
        }
      },
      "source": [
        "Fifth block"
      ]
    },
    {
      "cell_type": "code",
      "execution_count": null,
      "metadata": {
        "gather": {
          "logged": 1684180200659
        },
        "jupyter": {
          "outputs_hidden": false,
          "source_hidden": false
        },
        "nteract": {
          "transient": {
            "deleting": false
          }
        }
      },
      "outputs": [],
      "source": [
        "show_boxplots(layers[2], experimental_sets, scores, n_plots=4, other_name=\"other Frequencies\")"
      ]
    },
    {
      "cell_type": "code",
      "execution_count": null,
      "metadata": {
        "gather": {
          "logged": 1684179501455
        },
        "jupyter": {
          "outputs_hidden": false,
          "source_hidden": false
        },
        "nteract": {
          "transient": {
            "deleting": false
          }
        }
      },
      "outputs": [],
      "source": [
        "#### Frequency x noise comparison"
      ]
    },
    {
      "cell_type": "markdown",
      "metadata": {
        "nteract": {
          "transient": {
            "deleting": false
          }
        }
      },
      "source": [
        "#### Frequency x noise comparison"
      ]
    },
    {
      "cell_type": "markdown",
      "metadata": {
        "nteract": {
          "transient": {
            "deleting": false
          }
        }
      },
      "source": [
        "First block"
      ]
    },
    {
      "cell_type": "code",
      "execution_count": null,
      "metadata": {
        "gather": {
          "logged": 1684181027580
        },
        "jupyter": {
          "outputs_hidden": false,
          "source_hidden": false
        },
        "nteract": {
          "transient": {
            "deleting": false
          }
        }
      },
      "outputs": [],
      "source": [
        "show_boxplots(layers[0], experimental_sets[12:], scores, n=2, n_plots=4, other_name=\"noises\")"
      ]
    },
    {
      "cell_type": "markdown",
      "metadata": {
        "nteract": {
          "transient": {
            "deleting": false
          }
        }
      },
      "source": [
        "Second block"
      ]
    },
    {
      "cell_type": "code",
      "execution_count": null,
      "metadata": {
        "gather": {
          "logged": 1684181074469
        },
        "jupyter": {
          "outputs_hidden": false,
          "source_hidden": false
        },
        "nteract": {
          "transient": {
            "deleting": false
          }
        }
      },
      "outputs": [],
      "source": [
        "show_boxplots(layers[1], experimental_sets[12:], scores, n=2, n_plots=4, other_name=\"noises\")"
      ]
    },
    {
      "cell_type": "markdown",
      "metadata": {
        "nteract": {
          "transient": {
            "deleting": false
          }
        }
      },
      "source": [
        "Fifth block"
      ]
    },
    {
      "cell_type": "code",
      "execution_count": null,
      "metadata": {
        "gather": {
          "logged": 1684181086325
        },
        "jupyter": {
          "outputs_hidden": false,
          "source_hidden": false
        },
        "nteract": {
          "transient": {
            "deleting": false
          }
        }
      },
      "outputs": [],
      "source": [
        "show_boxplots(layers[2], experimental_sets[12:], scores, n=2, n_plots=4, other_name=\"noises\")"
      ]
    },
    {
      "attachments": {},
      "cell_type": "markdown",
      "metadata": {},
      "source": [
        "## Feature visualization"
      ]
    },
    {
      "cell_type": "code",
      "execution_count": null,
      "metadata": {
        "gather": {
          "logged": 1684231161576
        },
        "jupyter": {
          "outputs_hidden": false,
          "source_hidden": false
        },
        "nteract": {
          "transient": {
            "deleting": false
          }
        }
      },
      "outputs": [],
      "source": [
        "albilora_ca = inp_data[audios_ref_indices[4]]"
      ]
    },
    {
      "cell_type": "code",
      "execution_count": null,
      "metadata": {
        "gather": {
          "logged": 1684231164373
        },
        "jupyter": {
          "outputs_hidden": false,
          "source_hidden": false
        },
        "nteract": {
          "transient": {
            "deleting": false
          }
        }
      },
      "outputs": [],
      "source": [
        "_, axis = plt.subplots(figsize=(6, 3))\n",
        "\n",
        "librosa.display.specshow(np.abs(\n",
        "    librosa.stft(albilora_ca.cpu().detach().numpy(),\n",
        "        n_fft=window_size, win_length=window_size, hop_length=hop_length, center=True)\n",
        "    ),\n",
        "    sr=sr, x_axis=\"time\", y_axis=\"linear\", hop_length=hop_length,\n",
        "    fmin=int(tags[\"fmin\"]), fmax=int(tags[\"fmax\"]), ax=axis\n",
        ")\n",
        "\n",
        "axis.set_title(f\"Espectrograma- albilora-CA\", {'fontsize': 11})\n",
        "\n",
        "axis.set_xlabel(\"Tempo [s]\");"
      ]
    },
    {
      "cell_type": "code",
      "execution_count": null,
      "metadata": {
        "gather": {
          "logged": 1684231173533
        },
        "jupyter": {
          "outputs_hidden": false,
          "source_hidden": false
        },
        "nteract": {
          "transient": {
            "deleting": false
          }
        }
      },
      "outputs": [],
      "source": [
        "_, axis = plt.subplots(figsize=(6, 3))\n",
        "\n",
        "librosa.display.specshow(np.abs(\n",
        "    librosa.stft(baseline_gaussian[audios_ref_indices[4]].cpu().detach().numpy(),\n",
        "        n_fft=window_size, win_length=window_size, hop_length=hop_length, center=True)\n",
        "    ),\n",
        "    sr=sr, x_axis=\"time\", y_axis=\"linear\", hop_length=hop_length,\n",
        "    fmin=int(tags[\"fmin\"]), fmax=int(tags[\"fmax\"]), ax=axis\n",
        ")\n",
        "\n",
        "axis.set_title(f\"Espectrograma- albilora-CA com ruído gaussiano\", {'fontsize': 11})\n",
        "\n",
        "axis.set_xlabel(\"Tempo [s]\");"
      ]
    },
    {
      "cell_type": "code",
      "execution_count": null,
      "metadata": {
        "gather": {
          "logged": 1684231180534
        },
        "jupyter": {
          "outputs_hidden": false,
          "source_hidden": false
        },
        "nteract": {
          "transient": {
            "deleting": false
          }
        }
      },
      "outputs": [],
      "source": [
        "_, axis = plt.subplots(figsize=(6, 3))\n",
        "\n",
        "librosa.display.specshow(np.abs(\n",
        "    librosa.stft(baseline_impulsive[audios_ref_indices[4]].cpu().detach().numpy(),\n",
        "        n_fft=window_size, win_length=window_size, hop_length=hop_length, center=True)\n",
        "    ),\n",
        "    sr=sr, x_axis=\"time\", y_axis=\"linear\", hop_length=hop_length,\n",
        "    fmin=int(tags[\"fmin\"]), fmax=int(tags[\"fmax\"]), ax=axis\n",
        ")\n",
        "\n",
        "axis.set_title(f\"Espectrograma- albilora-CA com ruído impulsivo\", {'fontsize': 11})\n",
        "\n",
        "axis.set_xlabel(\"Tempo [s]\");"
      ]
    },
    {
      "cell_type": "code",
      "execution_count": null,
      "metadata": {
        "gather": {
          "logged": 1684231201288
        },
        "jupyter": {
          "outputs_hidden": false,
          "source_hidden": false
        },
        "nteract": {
          "transient": {
            "deleting": false
          }
        }
      },
      "outputs": [],
      "source": [
        "_, axis = plt.subplots(figsize=(6, 3))\n",
        "\n",
        "librosa.display.specshow(np.abs(\n",
        "    librosa.stft(baseline_2k[audios_ref_indices[4]].cpu().detach().numpy(),\n",
        "        n_fft=window_size, win_length=window_size, hop_length=hop_length, center=True)\n",
        "    ),\n",
        "    sr=sr, x_axis=\"time\", y_axis=\"linear\", hop_length=hop_length,\n",
        "    fmin=int(tags[\"fmin\"]), fmax=int(tags[\"fmax\"]), ax=axis\n",
        ")\n",
        "\n",
        "axis.set_title(f\"Espectrograma- albilora-CA: baseline2k\", {'fontsize': 11})\n",
        "\n",
        "axis.set_xlabel(\"Tempo [s]\");"
      ]
    },
    {
      "cell_type": "markdown",
      "metadata": {
        "nteract": {
          "transient": {
            "deleting": false
          }
        }
      },
      "source": [
        "Analyze inputs 0-150 and 150-200"
      ]
    },
    {
      "cell_type": "code",
      "execution_count": null,
      "metadata": {
        "gather": {
          "logged": 1684231208019
        },
        "jupyter": {
          "outputs_hidden": false,
          "source_hidden": false
        },
        "nteract": {
          "transient": {
            "deleting": false
          }
        }
      },
      "outputs": [],
      "source": [
        "str_labels = [idx_to_label[int(i.cpu().detach().numpy())] for i in np.argmax(labels, axis=1)]\n",
        "first_150_labels = {\"label\": str_labels[:150]}\n",
        "labels_inputs_150_200 = {\"label\": str_labels[150:200]}\n",
        "labels_inputs_200_350 = {\"label\": str_labels[200:350]}\n",
        "labels_inputs_350_tot = {\"label\": str_labels[350:]}"
      ]
    },
    {
      "cell_type": "code",
      "execution_count": null,
      "metadata": {
        "gather": {
          "logged": 1684231210284
        },
        "jupyter": {
          "outputs_hidden": false,
          "source_hidden": false
        },
        "nteract": {
          "transient": {
            "deleting": false
          }
        }
      },
      "outputs": [],
      "source": [
        "sns.countplot(x=first_150_labels[\"label\"]);"
      ]
    },
    {
      "cell_type": "code",
      "execution_count": null,
      "metadata": {
        "gather": {
          "logged": 1684231217078
        },
        "jupyter": {
          "outputs_hidden": false,
          "source_hidden": false
        },
        "nteract": {
          "transient": {
            "deleting": false
          }
        }
      },
      "outputs": [],
      "source": [
        "sns.countplot(x=labels_inputs_150_200[\"label\"]);"
      ]
    },
    {
      "cell_type": "code",
      "execution_count": null,
      "metadata": {
        "gather": {
          "logged": 1684231235800
        },
        "jupyter": {
          "outputs_hidden": false,
          "source_hidden": false
        },
        "nteract": {
          "transient": {
            "deleting": false
          }
        }
      },
      "outputs": [],
      "source": [
        "sns.countplot(x=labels_inputs_200_350[\"label\"]);"
      ]
    },
    {
      "cell_type": "code",
      "execution_count": null,
      "metadata": {
        "gather": {
          "logged": 1684231243641
        },
        "jupyter": {
          "outputs_hidden": false,
          "source_hidden": false
        },
        "nteract": {
          "transient": {
            "deleting": false
          }
        }
      },
      "outputs": [],
      "source": [
        "sns.countplot(x=labels_inputs_350_tot[\"label\"]);"
      ]
    },
    {
      "cell_type": "code",
      "execution_count": null,
      "metadata": {
        "gather": {
          "logged": 1684231847014
        },
        "jupyter": {
          "outputs_hidden": false,
          "source_hidden": false
        },
        "nteract": {
          "transient": {
            "deleting": false
          }
        }
      },
      "outputs": [],
      "source": [
        "evaluated_input = logged_model(inp_data)"
      ]
    },
    {
      "cell_type": "code",
      "execution_count": null,
      "metadata": {
        "gather": {
          "logged": 1684232301153
        },
        "jupyter": {
          "outputs_hidden": false,
          "source_hidden": false
        },
        "nteract": {
          "transient": {
            "deleting": false
          }
        }
      },
      "outputs": [],
      "source": [
        "pca = PCA(n_components=2)\n",
        "pca_evaluated_input = pca.fit_transform(evaluated_input.cpu().detach().numpy())"
      ]
    },
    {
      "cell_type": "markdown",
      "metadata": {
        "nteract": {
          "transient": {
            "deleting": false
          }
        }
      },
      "source": [
        "Kmeans"
      ]
    },
    {
      "cell_type": "code",
      "execution_count": null,
      "metadata": {
        "gather": {
          "logged": 1684231885072
        },
        "jupyter": {
          "outputs_hidden": false,
          "source_hidden": false
        },
        "nteract": {
          "transient": {
            "deleting": false
          }
        }
      },
      "outputs": [],
      "source": [
        "kmeans = KMeans(random_state=135).fit(evaluated_input.cpu().detach().numpy())\n",
        "kmeans.labels_"
      ]
    },
    {
      "cell_type": "code",
      "execution_count": null,
      "metadata": {
        "gather": {
          "logged": 1684232540035
        },
        "jupyter": {
          "outputs_hidden": false,
          "source_hidden": false
        },
        "nteract": {
          "transient": {
            "deleting": false
          }
        }
      },
      "outputs": [],
      "source": [
        "sns.scatterplot(x=pca_evaluated_input[:, 0], y=pca_evaluated_input[:, 1],\n",
        "        hue=kmeans.labels_, palette=\"deep\");"
      ]
    },
    {
      "cell_type": "markdown",
      "metadata": {
        "nteract": {
          "transient": {
            "deleting": false
          }
        }
      },
      "source": [
        "DBSCAN"
      ]
    },
    {
      "cell_type": "code",
      "execution_count": null,
      "metadata": {
        "gather": {
          "logged": 1684232602223
        },
        "jupyter": {
          "outputs_hidden": false,
          "source_hidden": false
        },
        "nteract": {
          "transient": {
            "deleting": false
          }
        }
      },
      "outputs": [],
      "source": [
        "dbscan = DBSCAN(eps=0.15, min_samples=2).fit(evaluated_input.cpu().detach().numpy())\n",
        "dbscan.labels_"
      ]
    },
    {
      "cell_type": "code",
      "execution_count": null,
      "metadata": {
        "gather": {
          "logged": 1684232604927
        },
        "jupyter": {
          "outputs_hidden": false,
          "source_hidden": false
        },
        "nteract": {
          "transient": {
            "deleting": false
          }
        }
      },
      "outputs": [],
      "source": [
        "sns.scatterplot(x=pca_evaluated_input[:, 0], y=pca_evaluated_input[:, 1],\n",
        "        hue=dbscan.labels_, palette=\"deep\");"
      ]
    }
  ],
  "metadata": {
    "kernel_info": {
      "name": "python38-azureml"
    },
    "kernelspec": {
      "display_name": "panns-EXV_f7Qi",
      "language": "python",
      "name": "python3"
    },
    "language_info": {
      "codemirror_mode": {
        "name": "ipython",
        "version": 3
      },
      "file_extension": ".py",
      "mimetype": "text/x-python",
      "name": "python",
      "nbconvert_exporter": "python",
      "pygments_lexer": "ipython3",
      "version": "3.10.8"
    },
    "microsoft": {
      "host": {
        "AzureML": {
          "notebookHasBeenCompleted": true
        }
      },
      "ms_spell_check": {
        "ms_spell_check_language": "en"
      }
    },
    "nteract": {
      "version": "nteract-front-end@1.0.0"
    },
    "orig_nbformat": 4
  },
  "nbformat": 4,
  "nbformat_minor": 2
}
