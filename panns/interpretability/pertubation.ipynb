{
  "cells": [
    {
      "cell_type": "code",
      "execution_count": null,
      "metadata": {
        "gather": {
          "logged": 1684233902643
        }
      },
      "outputs": [],
      "source": [
        "from interpretability_utilities import load_workspace_file\n",
        "\n",
        "import numpy as np\n",
        "import librosa\n",
        "\n",
        "import librosa.display\n",
        "import matplotlib.pyplot as plt\n",
        "\n",
        "import torch\n",
        "import mlflow\n",
        "\n",
        "from captum.attr import Lime\n",
        "from captum.attr import visualization as vis\n",
        "from captum.attr._core.lime import get_exp_kernel_similarity_function\n",
        "from captum._utils.models.linear_model import SkLearnLinearRegression"
      ]
    },
    {
      "attachments": {},
      "cell_type": "markdown",
      "metadata": {},
      "source": [
        "## Settings and utils"
      ]
    },
    {
      "cell_type": "code",
      "execution_count": null,
      "metadata": {
        "gather": {
          "logged": 1684233912053
        }
      },
      "outputs": [],
      "source": [
        "# Adjust according to your experiment\n",
        "ref_fold = \"8\"\n",
        "run_id = \"\"\n",
        "tracking_server = \"\"\n",
        "workspace_file = \"\"\n",
        "dataset_dir = \"\"\n",
        "device = 'cuda' if torch.cuda.is_available() else 'cpu'\n",
        "\n",
        "mlflow.set_tracking_uri(f\"{tracking_server}:5000\")\n",
        "logged_model = mlflow.pytorch.load_model(f\"runs:/{run_id}/models\")\n",
        "logged_model = logged_model.eval()\n",
        "\n",
        "client = mlflow.MlflowClient()\n",
        "run = client.get_run(run_id)\n",
        "run_data = run.data\n",
        "tags = run_data.tags\n",
        "\n",
        "sr = int(tags[\"sample_rate\"])\n",
        "n_fft = int(tags[\"window_size\"])\n",
        "hop_size = int(tags[\"hop_size\"])\n",
        "window_size = int(tags[\"window_size\"])"
      ]
    },
    {
      "cell_type": "code",
      "execution_count": null,
      "metadata": {
        "gather": {
          "logged": 1684233915014
        }
      },
      "outputs": [],
      "source": [
        "inp_data, indexes, labels, _, lb_to_idx, _ = load_workspace_file(workspace_file, ref_fold,\n",
        "                                dataset_dir, device)\n",
        "\n",
        "idx_to_label = {idx: label for label, idx in lb_to_idx.items()}\n",
        "target = [idx for label, idx in lb_to_idx.items() if label.startswith(\"albilora\")]\n",
        "\n",
        "inp_data.requires_grad_()"
      ]
    },
    {
      "cell_type": "code",
      "execution_count": null,
      "metadata": {
        "gather": {
          "logged": 1684233915164
        }
      },
      "outputs": [],
      "source": [
        "rng = np.random.default_rng(135)"
      ]
    },
    {
      "attachments": {},
      "cell_type": "markdown",
      "metadata": {},
      "source": [
        "## LIME attribution"
      ]
    },
    {
      "attachments": {},
      "cell_type": "markdown",
      "metadata": {},
      "source": [
        "Select input"
      ]
    },
    {
      "cell_type": "code",
      "execution_count": null,
      "metadata": {
        "gather": {
          "logged": 1684233916954
        }
      },
      "outputs": [],
      "source": [
        "index = rng.integers(200, 350) # albilora\n",
        "inp = inp_data[index]\n",
        "index, idx_to_label[np.argmax(labels.cpu().detach().numpy()[index])]"
      ]
    },
    {
      "attachments": {},
      "cell_type": "markdown",
      "metadata": {},
      "source": [
        "Configure LIME"
      ]
    },
    {
      "cell_type": "code",
      "execution_count": null,
      "metadata": {
        "gather": {
          "logged": 1684233917095
        }
      },
      "outputs": [],
      "source": [
        "exp_eucl_distance = get_exp_kernel_similarity_function('euclidean', kernel_width=1000)\n",
        "\n",
        "lr_lime = Lime(\n",
        "    logged_model,\n",
        "    interpretable_model=SkLearnLinearRegression(),\n",
        "    similarity_func=exp_eucl_distance\n",
        ")"
      ]
    },
    {
      "cell_type": "code",
      "execution_count": null,
      "metadata": {
        "gather": {
          "logged": 1684238662599
        },
        "jupyter": {
          "outputs_hidden": false,
          "source_hidden": false
        },
        "nteract": {
          "transient": {
            "deleting": false
          }
        }
      },
      "outputs": [],
      "source": [
        "lr_attrs = lr_lime.attribute(\n",
        "    inp_data[200:350],\n",
        "    target=int(np.argmax(labels.cpu().detach().numpy()[200:350])),\n",
        "    perturbations_per_eval=4,\n",
        "    show_progress=False\n",
        ")"
      ]
    },
    {
      "cell_type": "code",
      "execution_count": null,
      "metadata": {
        "gather": {
          "logged": 1684238663279
        },
        "jupyter": {
          "outputs_hidden": false,
          "source_hidden": false
        },
        "nteract": {
          "transient": {
            "deleting": false
          }
        }
      },
      "outputs": [],
      "source": [
        "lr_attrs, lr_attrs.size()"
      ]
    },
    {
      "cell_type": "code",
      "execution_count": null,
      "metadata": {
        "gather": {
          "logged": 1684234041044
        }
      },
      "outputs": [],
      "source": [
        "librosa.display.waveplot(inp.cpu().detach().numpy(), sr=sr);"
      ]
    },
    {
      "cell_type": "code",
      "execution_count": null,
      "metadata": {
        "gather": {
          "logged": 1684238758093
        }
      },
      "outputs": [],
      "source": [
        "vis.visualize_timeseries_attr(lr_attrs[0].reshape(1, inp.size()[0]).cpu().detach().numpy(),\n",
        "                              inp.reshape(1, inp.size()[0]).cpu().detach().numpy(),\n",
        "                              channels_last=False,\n",
        "                              method=\"colored_graph\",\n",
        "                              sign=\"all\");"
      ]
    },
    {
      "cell_type": "code",
      "execution_count": null,
      "metadata": {
        "gather": {
          "logged": 1684238854789
        },
        "jupyter": {
          "outputs_hidden": false,
          "source_hidden": false
        },
        "nteract": {
          "transient": {
            "deleting": false
          }
        }
      },
      "outputs": [],
      "source": [
        "lr_attrs[0], lr_attrs[0].size()"
      ]
    },
    {
      "cell_type": "code",
      "execution_count": null,
      "metadata": {
        "gather": {
          "logged": 1684238938109
        }
      },
      "outputs": [],
      "source": [
        "_, ax = plt.subplots(nrows=2, ncols=1, sharex=True)\n",
        "\n",
        "spec = np.abs(\n",
        "    librosa.stft(inp.cpu().detach().numpy(),\n",
        "    n_fft=window_size, win_length=window_size, hop_length=hop_size, center=True)\n",
        ")\n",
        "\n",
        "normalized_attr = vis._normalize_attr(lr_attrs[21], \"all\", 2, reduction_axis=None)\n",
        "\n",
        "attr_spec = np.abs(\n",
        "    librosa.stft(\n",
        "        normalized_attr.cpu().detach().numpy(),\n",
        "        n_fft=window_size, win_length=window_size, hop_length=hop_size, center=True)\n",
        ")\n",
        "\n",
        "librosa.display.specshow(\n",
        "    spec, x_axis='time', y_axis='linear', sr=sr, hop_length=hop_size, ax=ax[0]\n",
        ");\n",
        "\n",
        "librosa.display.specshow(\n",
        "    attr_spec, x_axis='time', y_axis='linear', sr=sr, hop_length=hop_size, ax=ax[1]\n",
        ");"
      ]
    }
  ],
  "metadata": {
    "kernel_info": {
      "name": "python38-azureml"
    },
    "kernelspec": {
      "display_name": "Python 3.8 - AzureML",
      "language": "python",
      "name": "python38-azureml"
    },
    "language_info": {
      "codemirror_mode": {
        "name": "ipython",
        "version": 3
      },
      "file_extension": ".py",
      "mimetype": "text/x-python",
      "name": "python",
      "nbconvert_exporter": "python",
      "pygments_lexer": "ipython3",
      "version": "3.8.5"
    },
    "microsoft": {
      "host": {
        "AzureML": {
          "notebookHasBeenCompleted": true
        }
      },
      "ms_spell_check": {
        "ms_spell_check_language": "en"
      }
    },
    "nteract": {
      "version": "nteract-front-end@1.0.0"
    },
    "orig_nbformat": 4
  },
  "nbformat": 4,
  "nbformat_minor": 2
}
